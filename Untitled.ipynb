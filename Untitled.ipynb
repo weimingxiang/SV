{
 "cells": [
  {
   "cell_type": "code",
   "execution_count": 19,
   "id": "e545e98c",
   "metadata": {},
   "outputs": [],
   "source": [
    "from utilities import preprocess\n",
    "from pudb import set_trace\n",
    "import pandas as pd\n",
    "import random\n",
    "import numpy as np\n",
    "import torchvision\n",
    "import math\n",
    "import torch\n",
    "import matplotlib.pyplot as plt\n",
    "from utilities import MaxMinNormalization"
   ]
  },
  {
   "cell_type": "code",
   "execution_count": null,
   "id": "e48233b4",
   "metadata": {},
   "outputs": [],
   "source": [
    "chromosome = \"chr1\""
   ]
  },
  {
   "cell_type": "code",
   "execution_count": null,
   "id": "5299957c",
   "metadata": {},
   "outputs": [
    {
     "name": "stdout",
     "output_type": "stream",
     "text": [
      "[*] Start generating images ===\n"
     ]
    }
   ],
   "source": [
    "from utilities import preprocess\n",
    "\n",
    "data_dir = \"../datasets/NA12878_PacBio_MtSinai/\"\n",
    "\n",
    "bam_path = data_dir + \"sorted_final_merged.bam\"\n",
    "\n",
    "a = ['chrM', 'chr1', 'chr2', 'chr3', 'chr4', 'chr5', 'chr6', 'chr7', 'chr8', 'chr9', 'chr10', 'chr11', 'chr12', 'chr13', 'chr14', 'chr15', 'chr16', 'chr17', 'chr18', 'chr19', 'chr20', 'chr21', 'chr22', 'chrX', 'chrY', 'chr1_gl000191_random', 'chr1_gl000192_random', 'chr4_ctg9_hap1', 'chr4_gl000193_random', 'chr4_gl000194_random', 'chr6_apd_hap1', 'chr6_cox_hap2', 'chr6_dbb_hap3', 'chr6_mann_hap4', 'chr6_mcf_hap5', 'chr6_qbl_hap6', 'chr6_ssto_hap7', 'chr7_gl000195_random', 'chr8_gl000196_random', 'chr8_gl000197_random', 'chr9_gl000198_random', 'chr9_gl000199_random', 'chr9_gl000200_random', 'chr9_gl000201_random', 'chr11_gl000202_random', 'chr17_ctg5_hap1', 'chr17_gl000203_random', 'chr17_gl000204_random', 'chr17_gl000205_random', 'chr17_gl000206_random', 'chr18_gl000207_random', 'chr19_gl000208_random', 'chr19_gl000209_random', 'chr21_gl000210_random', 'chrUn_gl000211', 'chrUn_gl000212', 'chrUn_gl000213', 'chrUn_gl000214', 'chrUn_gl000215', 'chrUn_gl000216', 'chrUn_gl000217', 'chrUn_gl000218', 'chrUn_gl000219', 'chrUn_gl000220', 'chrUn_gl000221', 'chrUn_gl000222', 'chrUn_gl000223', 'chrUn_gl000224', 'chrUn_gl000225', 'chrUn_gl000226', 'chrUn_gl000227', 'chrUn_gl000228', 'chrUn_gl000229', 'chrUn_gl000230', 'chrUn_gl000231', 'chrUn_gl000232', 'chrUn_gl000233', 'chrUn_gl000234', 'chrUn_gl000235', 'chrUn_gl000236', 'chrUn_gl000237', 'chrUn_gl000238', 'chrUn_gl000239', 'chrUn_gl000240', 'chrUn_gl000241', 'chrUn_gl000242', 'chrUn_gl000243', 'chrUn_gl000244', 'chrUn_gl000245', 'chrUn_gl000246', 'chrUn_gl000247', 'chrUn_gl000248', 'chrUn_gl000249']\n",
    "\n",
    "def p(chromosome):\n",
    "    chromosome_sign = preprocess(bam_path, chromosome, data_dir)\n",
    "    torch.save(data_dir + \"chromosome_sign/\" + chromosome + \".pt\", chromosome_sign)\n",
    "    \n",
    "\n",
    "p(\"chr1\")"
   ]
  },
  {
   "cell_type": "code",
   "execution_count": 12,
   "id": "52b191ec",
   "metadata": {},
   "outputs": [],
   "source": [
    "rd_depth_mean = np.mean(rd_depth)"
   ]
  },
  {
   "cell_type": "code",
   "execution_count": 6,
   "id": "e4392ecb",
   "metadata": {},
   "outputs": [],
   "source": [
    "filename = \"../datasets/NA12878_PacBio_MtSinai/insert_result_data.csv.vcf\"\n",
    "insert_result_data = pd.read_csv(filename, sep = \"\\t\", index_col=0)"
   ]
  },
  {
   "cell_type": "code",
   "execution_count": 7,
   "id": "45799b65",
   "metadata": {},
   "outputs": [],
   "source": [
    "insert_chromosome = insert_result_data[insert_result_data[\"CHROM\"] == chromosome]"
   ]
  },
  {
   "cell_type": "code",
   "execution_count": 136,
   "id": "e5ebc51d",
   "metadata": {},
   "outputs": [
    {
     "data": {
      "text/html": [
       "<div>\n",
       "<style scoped>\n",
       "    .dataframe tbody tr th:only-of-type {\n",
       "        vertical-align: middle;\n",
       "    }\n",
       "\n",
       "    .dataframe tbody tr th {\n",
       "        vertical-align: top;\n",
       "    }\n",
       "\n",
       "    .dataframe thead th {\n",
       "        text-align: right;\n",
       "    }\n",
       "</style>\n",
       "<table border=\"1\" class=\"dataframe\">\n",
       "  <thead>\n",
       "    <tr style=\"text-align: right;\">\n",
       "      <th></th>\n",
       "      <th>CHROM</th>\n",
       "      <th>POS</th>\n",
       "      <th>SPOS</th>\n",
       "      <th>EPOS</th>\n",
       "      <th>END</th>\n",
       "      <th>SEND</th>\n",
       "      <th>EEND</th>\n",
       "      <th>ID</th>\n",
       "      <th>REF</th>\n",
       "      <th>ALT</th>\n",
       "      <th>QUAL</th>\n",
       "      <th>FILTER</th>\n",
       "      <th>INFO</th>\n",
       "      <th>FORMAT</th>\n",
       "      <th>NA12878</th>\n",
       "    </tr>\n",
       "  </thead>\n",
       "  <tbody>\n",
       "    <tr>\n",
       "      <th>0</th>\n",
       "      <td>chr1</td>\n",
       "      <td>10632</td>\n",
       "      <td>-50</td>\n",
       "      <td>50</td>\n",
       "      <td>10743</td>\n",
       "      <td>0</td>\n",
       "      <td>0</td>\n",
       "      <td>.</td>\n",
       "      <td>G</td>\n",
       "      <td>&lt;INS&gt;</td>\n",
       "      <td>.</td>\n",
       "      <td>lt3</td>\n",
       "      <td>IMPRECISE;SVTYPE=INS;END=10743;CIPOS=-50,50;NS...</td>\n",
       "      <td>GT</td>\n",
       "      <td>0/1</td>\n",
       "    </tr>\n",
       "    <tr>\n",
       "      <th>1</th>\n",
       "      <td>chr1</td>\n",
       "      <td>10851</td>\n",
       "      <td>-50</td>\n",
       "      <td>50</td>\n",
       "      <td>10942</td>\n",
       "      <td>0</td>\n",
       "      <td>0</td>\n",
       "      <td>.</td>\n",
       "      <td>G</td>\n",
       "      <td>&lt;INS&gt;</td>\n",
       "      <td>.</td>\n",
       "      <td>lt3</td>\n",
       "      <td>IMPRECISE;SVTYPE=INS;END=10942;CIPOS=-50,50;NS...</td>\n",
       "      <td>GT</td>\n",
       "      <td>0/1</td>\n",
       "    </tr>\n",
       "    <tr>\n",
       "      <th>2</th>\n",
       "      <td>chr1</td>\n",
       "      <td>66191</td>\n",
       "      <td>-10</td>\n",
       "      <td>10</td>\n",
       "      <td>66452</td>\n",
       "      <td>0</td>\n",
       "      <td>0</td>\n",
       "      <td>.</td>\n",
       "      <td>T</td>\n",
       "      <td>&lt;INS&gt;</td>\n",
       "      <td>.</td>\n",
       "      <td>lt3</td>\n",
       "      <td>IMPRECISE;SVTYPE=INS;END=66192;SVLEN=+261;CIPO...</td>\n",
       "      <td>GT</td>\n",
       "      <td>0/1</td>\n",
       "    </tr>\n",
       "    <tr>\n",
       "      <th>3</th>\n",
       "      <td>chr1</td>\n",
       "      <td>66493</td>\n",
       "      <td>-10</td>\n",
       "      <td>10</td>\n",
       "      <td>66555</td>\n",
       "      <td>0</td>\n",
       "      <td>0</td>\n",
       "      <td>.</td>\n",
       "      <td>A</td>\n",
       "      <td>&lt;INS&gt;</td>\n",
       "      <td>.</td>\n",
       "      <td>lt3</td>\n",
       "      <td>IMPRECISE;SVTYPE=INS;END=66494;SVLEN=+62;CIPOS...</td>\n",
       "      <td>GT</td>\n",
       "      <td>0/1</td>\n",
       "    </tr>\n",
       "    <tr>\n",
       "      <th>4</th>\n",
       "      <td>chr1</td>\n",
       "      <td>386669</td>\n",
       "      <td>-50</td>\n",
       "      <td>50</td>\n",
       "      <td>386767</td>\n",
       "      <td>0</td>\n",
       "      <td>0</td>\n",
       "      <td>.</td>\n",
       "      <td>C</td>\n",
       "      <td>&lt;INS&gt;</td>\n",
       "      <td>.</td>\n",
       "      <td>lt3</td>\n",
       "      <td>IMPRECISE;SVTYPE=INS;END=386767;CIPOS=-50,50;N...</td>\n",
       "      <td>GT</td>\n",
       "      <td>0/1</td>\n",
       "    </tr>\n",
       "    <tr>\n",
       "      <th>...</th>\n",
       "      <td>...</td>\n",
       "      <td>...</td>\n",
       "      <td>...</td>\n",
       "      <td>...</td>\n",
       "      <td>...</td>\n",
       "      <td>...</td>\n",
       "      <td>...</td>\n",
       "      <td>...</td>\n",
       "      <td>...</td>\n",
       "      <td>...</td>\n",
       "      <td>...</td>\n",
       "      <td>...</td>\n",
       "      <td>...</td>\n",
       "      <td>...</td>\n",
       "      <td>...</td>\n",
       "    </tr>\n",
       "    <tr>\n",
       "      <th>1616</th>\n",
       "      <td>chr1</td>\n",
       "      <td>249205955</td>\n",
       "      <td>-10</td>\n",
       "      <td>10</td>\n",
       "      <td>249206082</td>\n",
       "      <td>0</td>\n",
       "      <td>0</td>\n",
       "      <td>.</td>\n",
       "      <td>C</td>\n",
       "      <td>&lt;INS&gt;</td>\n",
       "      <td>.</td>\n",
       "      <td>PASS</td>\n",
       "      <td>IMPRECISE;SVTYPE=INS;END=249205956;SVLEN=+127;...</td>\n",
       "      <td>GT</td>\n",
       "      <td>0/1</td>\n",
       "    </tr>\n",
       "    <tr>\n",
       "      <th>1617</th>\n",
       "      <td>chr1</td>\n",
       "      <td>249220300</td>\n",
       "      <td>-50</td>\n",
       "      <td>50</td>\n",
       "      <td>249220329</td>\n",
       "      <td>0</td>\n",
       "      <td>0</td>\n",
       "      <td>.</td>\n",
       "      <td>C</td>\n",
       "      <td>&lt;INS&gt;</td>\n",
       "      <td>.</td>\n",
       "      <td>lt3</td>\n",
       "      <td>IMPRECISE;SVTYPE=INS;END=249220329;CIPOS=-50,5...</td>\n",
       "      <td>GT</td>\n",
       "      <td>0/1</td>\n",
       "    </tr>\n",
       "    <tr>\n",
       "      <th>1618</th>\n",
       "      <td>chr1</td>\n",
       "      <td>249222991</td>\n",
       "      <td>-50</td>\n",
       "      <td>50</td>\n",
       "      <td>249223091</td>\n",
       "      <td>0</td>\n",
       "      <td>0</td>\n",
       "      <td>.</td>\n",
       "      <td>C</td>\n",
       "      <td>&lt;INS&gt;</td>\n",
       "      <td>.</td>\n",
       "      <td>lt3</td>\n",
       "      <td>IMPRECISE;SVTYPE=INS;END=249223091;CIPOS=-50,5...</td>\n",
       "      <td>GT</td>\n",
       "      <td>0/1</td>\n",
       "    </tr>\n",
       "    <tr>\n",
       "      <th>1619</th>\n",
       "      <td>chr1</td>\n",
       "      <td>249232755</td>\n",
       "      <td>-10</td>\n",
       "      <td>10</td>\n",
       "      <td>249232848</td>\n",
       "      <td>0</td>\n",
       "      <td>0</td>\n",
       "      <td>.</td>\n",
       "      <td>C</td>\n",
       "      <td>&lt;INS&gt;</td>\n",
       "      <td>.</td>\n",
       "      <td>lt3</td>\n",
       "      <td>IMPRECISE;SVTYPE=INS;END=249232756;SVLEN=+93;C...</td>\n",
       "      <td>GT</td>\n",
       "      <td>0/1</td>\n",
       "    </tr>\n",
       "    <tr>\n",
       "      <th>1620</th>\n",
       "      <td>chr1</td>\n",
       "      <td>249239158</td>\n",
       "      <td>-50</td>\n",
       "      <td>50</td>\n",
       "      <td>249239262</td>\n",
       "      <td>0</td>\n",
       "      <td>0</td>\n",
       "      <td>.</td>\n",
       "      <td>C</td>\n",
       "      <td>&lt;INS&gt;</td>\n",
       "      <td>.</td>\n",
       "      <td>lt3</td>\n",
       "      <td>IMPRECISE;SVTYPE=INS;END=249239262;CIPOS=-50,5...</td>\n",
       "      <td>GT</td>\n",
       "      <td>0/1</td>\n",
       "    </tr>\n",
       "  </tbody>\n",
       "</table>\n",
       "<p>1621 rows × 15 columns</p>\n",
       "</div>"
      ],
      "text/plain": [
       "     CHROM        POS  SPOS  EPOS        END  SEND  EEND ID REF    ALT QUAL  \\\n",
       "0     chr1      10632   -50    50      10743     0     0  .   G  <INS>    .   \n",
       "1     chr1      10851   -50    50      10942     0     0  .   G  <INS>    .   \n",
       "2     chr1      66191   -10    10      66452     0     0  .   T  <INS>    .   \n",
       "3     chr1      66493   -10    10      66555     0     0  .   A  <INS>    .   \n",
       "4     chr1     386669   -50    50     386767     0     0  .   C  <INS>    .   \n",
       "...    ...        ...   ...   ...        ...   ...   ... ..  ..    ...  ...   \n",
       "1616  chr1  249205955   -10    10  249206082     0     0  .   C  <INS>    .   \n",
       "1617  chr1  249220300   -50    50  249220329     0     0  .   C  <INS>    .   \n",
       "1618  chr1  249222991   -50    50  249223091     0     0  .   C  <INS>    .   \n",
       "1619  chr1  249232755   -10    10  249232848     0     0  .   C  <INS>    .   \n",
       "1620  chr1  249239158   -50    50  249239262     0     0  .   C  <INS>    .   \n",
       "\n",
       "     FILTER                                               INFO FORMAT NA12878  \n",
       "0       lt3  IMPRECISE;SVTYPE=INS;END=10743;CIPOS=-50,50;NS...     GT     0/1  \n",
       "1       lt3  IMPRECISE;SVTYPE=INS;END=10942;CIPOS=-50,50;NS...     GT     0/1  \n",
       "2       lt3  IMPRECISE;SVTYPE=INS;END=66192;SVLEN=+261;CIPO...     GT     0/1  \n",
       "3       lt3  IMPRECISE;SVTYPE=INS;END=66494;SVLEN=+62;CIPOS...     GT     0/1  \n",
       "4       lt3  IMPRECISE;SVTYPE=INS;END=386767;CIPOS=-50,50;N...     GT     0/1  \n",
       "...     ...                                                ...    ...     ...  \n",
       "1616   PASS  IMPRECISE;SVTYPE=INS;END=249205956;SVLEN=+127;...     GT     0/1  \n",
       "1617    lt3  IMPRECISE;SVTYPE=INS;END=249220329;CIPOS=-50,5...     GT     0/1  \n",
       "1618    lt3  IMPRECISE;SVTYPE=INS;END=249223091;CIPOS=-50,5...     GT     0/1  \n",
       "1619    lt3  IMPRECISE;SVTYPE=INS;END=249232756;SVLEN=+93;C...     GT     0/1  \n",
       "1620    lt3  IMPRECISE;SVTYPE=INS;END=249239262;CIPOS=-50,5...     GT     0/1  \n",
       "\n",
       "[1621 rows x 15 columns]"
      ]
     },
     "execution_count": 136,
     "metadata": {},
     "output_type": "execute_result"
    }
   ],
   "source": [
    "insert_chromosome"
   ]
  },
  {
   "cell_type": "code",
   "execution_count": 8,
   "id": "3d85a638",
   "metadata": {},
   "outputs": [],
   "source": [
    "positive_img = []\n",
    "negative_img = []\n",
    "\n",
    "for index, row in insert_chromosome.iterrows():\n",
    "    gap = int((row[\"END\"] - row[\"POS\"]) / 4)\n",
    "    if gap == 0:\n",
    "        gap = 1\n",
    "    # positive\n",
    "    begin = row[\"POS\"] - 1 - gap\n",
    "    end = row[\"END\"] - 1 + gap\n",
    "    if begin < 0:\n",
    "        begin = 0\n",
    "    if end >= len(rd_depth):\n",
    "        end = len(rd_depth) - 1\n",
    "    positive_img.append(rd_depth[begin:end])\n",
    "    #negative\n",
    "    random_begin = random.randint(1,len(rd_depth))\n",
    "    while random_begin == row[\"POS\"]:\n",
    "        random_begin = random.randint(1,len(rd_depth))\n",
    "    begin = random_begin - 1 - gap\n",
    "    end = begin + row[\"END\"] - row[\"POS\"] + 2 * gap\n",
    "    if begin < 0:\n",
    "        begin = 0\n",
    "    if end >= len(rd_depth):\n",
    "        end = len(rd_depth) - 1\n",
    "    negative_img.append(rd_depth[begin:end])\n",
    "    "
   ]
  },
  {
   "cell_type": "code",
   "execution_count": 14,
   "id": "aa833a41",
   "metadata": {},
   "outputs": [
    {
     "name": "stdout",
     "output_type": "stream",
     "text": [
      "1621\n",
      "1621\n"
     ]
    }
   ],
   "source": [
    "#train insert identify network\n",
    "# x = img y = 1\n",
    "print(len(positive_img))\n",
    "print(len(negative_img))"
   ]
  },
  {
   "cell_type": "code",
   "execution_count": 44,
   "id": "494872c9",
   "metadata": {},
   "outputs": [],
   "source": [
    "def to_input_image(img, hight = 224):\n",
    "    img = torch.tensor(img, dtype=torch.float)\n",
    "    img = img - rd_depth_mean + hight / 2\n",
    "    pic_length = len(img)\n",
    "    im = torch.zeros(3, pic_length, hight)\n",
    "\n",
    "    im[0, :, 112:] = 255\n",
    "    \n",
    "    for x in range(pic_length):\n",
    "        y = int(img[x])\n",
    "        im[1, x, 0:y] = 255\n",
    "        y_float = img[x] - y\n",
    "        im[1, x, y:y+1] = torch.round(255 * y_float)\n",
    "\n",
    "    return im"
   ]
  },
  {
   "cell_type": "code",
   "execution_count": 27,
   "id": "37a645c6",
   "metadata": {},
   "outputs": [
    {
     "data": {
      "text/plain": [
       "array([ 95.44480749,  95.44480749,  95.44480749,  93.44480749,\n",
       "        95.44480749,  94.44480749,  92.44480749,  94.44480749,\n",
       "        93.44480749,  94.44480749,  94.44480749,  92.44480749,\n",
       "        91.44480749,  93.44480749,  93.44480749,  93.44480749,\n",
       "        92.44480749,  91.44480749,  90.44480749,  93.44480749,\n",
       "        94.44480749,  93.44480749,  92.44480749,  91.44480749,\n",
       "        91.44480749,  92.44480749,  94.44480749,  94.44480749,\n",
       "        94.44480749,  94.44480749,  93.44480749,  94.44480749,\n",
       "        97.44480749,  95.44480749,  97.44480749,  97.44480749,\n",
       "        93.44480749,  98.44480749,  97.44480749,  97.44480749,\n",
       "        98.44480749,  98.44480749,  98.44480749,  98.44480749,\n",
       "        97.44480749,  98.44480749, 100.44480749,  99.44480749,\n",
       "        97.44480749,  98.44480749,  99.44480749,  99.44480749,\n",
       "        99.44480749,  99.44480749, 100.44480749, 101.44480749,\n",
       "       101.44480749, 101.44480749, 101.44480749, 101.44480749,\n",
       "       102.44480749, 102.44480749, 101.44480749, 102.44480749,\n",
       "       101.44480749,  99.44480749, 101.44480749, 102.44480749,\n",
       "       102.44480749, 102.44480749, 102.44480749, 101.44480749,\n",
       "        98.44480749,  98.44480749, 102.44480749, 102.44480749,\n",
       "       101.44480749, 102.44480749, 101.44480749, 101.44480749,\n",
       "       102.44480749, 102.44480749, 101.44480749, 102.44480749,\n",
       "       101.44480749, 102.44480749, 102.44480749, 102.44480749,\n",
       "       102.44480749, 102.44480749, 101.44480749, 101.44480749,\n",
       "       101.44480749, 102.44480749,  99.44480749, 102.44480749,\n",
       "       101.44480749, 101.44480749, 103.44480749, 102.44480749,\n",
       "       103.44480749, 103.44480749, 101.44480749, 103.44480749,\n",
       "       103.44480749, 101.44480749, 103.44480749, 103.44480749,\n",
       "       103.44480749, 103.44480749, 103.44480749, 103.44480749,\n",
       "       102.44480749, 102.44480749, 103.44480749, 102.44480749,\n",
       "       103.44480749, 103.44480749, 102.44480749, 103.44480749,\n",
       "       103.44480749, 101.44480749, 103.44480749, 100.44480749,\n",
       "       102.44480749, 103.44480749, 103.44480749, 103.44480749,\n",
       "       102.44480749, 101.44480749, 102.44480749, 102.44480749,\n",
       "       103.44480749, 102.44480749, 104.44480749, 103.44480749,\n",
       "       104.44480749, 103.44480749, 104.44480749, 104.44480749,\n",
       "       104.44480749, 103.44480749, 104.44480749, 103.44480749,\n",
       "       104.44480749, 104.44480749, 103.44480749, 103.44480749,\n",
       "       104.44480749, 103.44480749, 104.44480749, 103.44480749,\n",
       "       102.44480749, 104.44480749, 101.44480749, 104.44480749,\n",
       "       103.44480749, 104.44480749, 100.44480749, 104.44480749,\n",
       "       103.44480749, 103.44480749, 103.44480749, 103.44480749,\n",
       "       102.44480749])"
      ]
     },
     "execution_count": 27,
     "metadata": {},
     "output_type": "execute_result"
    }
   ],
   "source": [
    "positive_img[0] - rd_depth_mean + 112"
   ]
  },
  {
   "cell_type": "code",
   "execution_count": 45,
   "id": "c2737e5f",
   "metadata": {
    "scrolled": true
   },
   "outputs": [
    {
     "name": "stderr",
     "output_type": "stream",
     "text": [
      "Clipping input data to the valid range for imshow with RGB data ([0..1] for floats or [0..255] for integers).\n"
     ]
    },
    {
     "data": {
      "text/plain": [
       "<matplotlib.image.AxesImage at 0x7ff15a1bd588>"
      ]
     },
     "execution_count": 45,
     "metadata": {},
     "output_type": "execute_result"
    },
    {
     "data": {
      "image/png": "[encoded data removed]",
      "text/plain": [
       "<Figure size 432x288 with 1 Axes>"
      ]
     },
     "metadata": {
      "needs_background": "light"
     },
     "output_type": "display_data"
    }
   ],
   "source": [
    "img = to_input_image(positive_img[0], 224)\n",
    "\n",
    "img = img.transpose(0, 2).transpose(0, 1)\n",
    "img = img.numpy()\n",
    "plt.imshow(img)"
   ]
  },
  {
   "cell_type": "code",
   "execution_count": 46,
   "id": "3b970649",
   "metadata": {},
   "outputs": [
    {
     "name": "stderr",
     "output_type": "stream",
     "text": [
      "Clipping input data to the valid range for imshow with RGB data ([0..1] for floats or [0..255] for integers).\n"
     ]
    },
    {
     "data": {
      "text/plain": [
       "<matplotlib.image.AxesImage at 0x7ff15a2a54e0>"
      ]
     },
     "execution_count": 46,
     "metadata": {},
     "output_type": "execute_result"
    },
    {
     "data": {
      "image/png": "[encoded data removed]",
      "text/plain": [
       "<Figure size 432x288 with 1 Axes>"
      ]
     },
     "metadata": {
      "needs_background": "light"
     },
     "output_type": "display_data"
    }
   ],
   "source": [
    "img = to_input_image(positive_img[1], 224)\n",
    "\n",
    "img = img.transpose(0, 2).transpose(0, 1)\n",
    "img = img.numpy()\n",
    "plt.imshow(img)"
   ]
  },
  {
   "cell_type": "code",
   "execution_count": 51,
   "id": "a873df6f",
   "metadata": {},
   "outputs": [
    {
     "name": "stderr",
     "output_type": "stream",
     "text": [
      "Clipping input data to the valid range for imshow with RGB data ([0..1] for floats or [0..255] for integers).\n"
     ]
    },
    {
     "data": {
      "text/plain": [
       "<matplotlib.image.AxesImage at 0x7ff159f8bcf8>"
      ]
     },
     "execution_count": 51,
     "metadata": {},
     "output_type": "execute_result"
    },
    {
     "data": {
      "image/png": "[encoded data removed]",
      "text/plain": [
       "<Figure size 432x288 with 1 Axes>"
      ]
     },
     "metadata": {
      "needs_background": "light"
     },
     "output_type": "display_data"
    }
   ],
   "source": [
    "img = to_input_image(positive_img[2], 224)\n",
    "\n",
    "img = img.transpose(0, 2).transpose(0, 1)\n",
    "img = img.numpy()\n",
    "plt.imshow(img)"
   ]
  },
  {
   "cell_type": "code",
   "execution_count": 48,
   "id": "0a61f999",
   "metadata": {},
   "outputs": [
    {
     "name": "stderr",
     "output_type": "stream",
     "text": [
      "Clipping input data to the valid range for imshow with RGB data ([0..1] for floats or [0..255] for integers).\n"
     ]
    },
    {
     "data": {
      "text/plain": [
       "<matplotlib.image.AxesImage at 0x7ff15a0dc080>"
      ]
     },
     "execution_count": 48,
     "metadata": {},
     "output_type": "execute_result"
    },
    {
     "data": {
      "image/png": "[encoded data removed]",
      "text/plain": [
       "<Figure size 432x288 with 1 Axes>"
      ]
     },
     "metadata": {
      "needs_background": "light"
     },
     "output_type": "display_data"
    }
   ],
   "source": [
    "img = to_input_image(negative_img[0], 224)\n",
    "\n",
    "img = img.transpose(0, 2).transpose(0, 1)\n",
    "img = img.numpy()\n",
    "plt.imshow(img)"
   ]
  },
  {
   "cell_type": "code",
   "execution_count": 49,
   "id": "ba1d3ba7",
   "metadata": {},
   "outputs": [
    {
     "name": "stderr",
     "output_type": "stream",
     "text": [
      "Clipping input data to the valid range for imshow with RGB data ([0..1] for floats or [0..255] for integers).\n"
     ]
    },
    {
     "data": {
      "text/plain": [
       "<matplotlib.image.AxesImage at 0x7ff15a045208>"
      ]
     },
     "execution_count": 49,
     "metadata": {},
     "output_type": "execute_result"
    },
    {
     "data": {
      "image/png": "[encoded data removed]",
      "text/plain": [
       "<Figure size 432x288 with 1 Axes>"
      ]
     },
     "metadata": {
      "needs_background": "light"
     },
     "output_type": "display_data"
    }
   ],
   "source": [
    "img = to_input_image(negative_img[1], 224)\n",
    "\n",
    "img = img.transpose(0, 2).transpose(0, 1)\n",
    "img = img.numpy()\n",
    "plt.imshow(img)"
   ]
  },
  {
   "cell_type": "code",
   "execution_count": 50,
   "id": "d79dc571",
   "metadata": {},
   "outputs": [
    {
     "name": "stderr",
     "output_type": "stream",
     "text": [
      "Clipping input data to the valid range for imshow with RGB data ([0..1] for floats or [0..255] for integers).\n"
     ]
    },
    {
     "data": {
      "text/plain": [
       "<matplotlib.image.AxesImage at 0x7ff15a0287f0>"
      ]
     },
     "execution_count": 50,
     "metadata": {},
     "output_type": "execute_result"
    },
    {
     "data": {
      "image/png": "[encoded data removed]",
      "text/plain": [
       "<Figure size 432x288 with 1 Axes>"
      ]
     },
     "metadata": {
      "needs_background": "light"
     },
     "output_type": "display_data"
    }
   ],
   "source": [
    "img = to_input_image(negative_img[2], 224)\n",
    "\n",
    "img = img.transpose(0, 2).transpose(0, 1)\n",
    "img = img.numpy()\n",
    "plt.imshow(img)"
   ]
  },
  {
   "cell_type": "code",
   "execution_count": 57,
   "id": "2251dd26",
   "metadata": {},
   "outputs": [],
   "source": [
    "resize = torchvision.transforms.Resize([224, 224])"
   ]
  },
  {
   "cell_type": "code",
   "execution_count": 58,
   "id": "a8a36c82",
   "metadata": {},
   "outputs": [],
   "source": [
    "img = to_input_image(negative_img[2], 224)"
   ]
  },
  {
   "cell_type": "code",
   "execution_count": 62,
   "id": "45527a1e",
   "metadata": {
    "scrolled": true
   },
   "outputs": [
    {
     "name": "stderr",
     "output_type": "stream",
     "text": [
      "Clipping input data to the valid range for imshow with RGB data ([0..1] for floats or [0..255] for integers).\n"
     ]
    },
    {
     "data": {
      "text/plain": [
       "<matplotlib.image.AxesImage at 0x7ff159ebe710>"
      ]
     },
     "execution_count": 62,
     "metadata": {},
     "output_type": "execute_result"
    },
    {
     "data": {
      "image/png": "[encoded data removed]",
      "text/plain": [
       "<Figure size 432x288 with 1 Axes>"
      ]
     },
     "metadata": {
      "needs_background": "light"
     },
     "output_type": "display_data"
    }
   ],
   "source": [
    "img = resize(img)\n",
    "img = img.transpose(0, 2).transpose(0, 1)\n",
    "img = img.numpy()\n",
    "plt.imshow(img)"
   ]
  },
  {
   "cell_type": "code",
   "execution_count": 74,
   "id": "edb08416",
   "metadata": {},
   "outputs": [],
   "source": [
    "def to_input_image(imgs, rd_depth_mean, hight = 224):\n",
    "    resize = torchvision.transforms.Resize([hight, hight])\n",
    "    ims = torch.empty(0, 3, hight, hight)\n",
    "    for img in imgs:\n",
    "        img = torch.tensor(img, dtype=torch.float)\n",
    "        img = img - rd_depth_mean + hight / 2\n",
    "        pic_length = len(img)\n",
    "        im = torch.zeros(3, pic_length, hight)\n",
    "\n",
    "        im[0, :, 112:] = 255\n",
    "\n",
    "        for x in range(pic_length):\n",
    "            y = int(img[x])\n",
    "            im[1, x, 0:y] = 255\n",
    "            y_float = img[x] - y\n",
    "            im[1, x, y:y+1] = torch.round(255 * y_float)\n",
    "        im = resize(im)\n",
    "        ims = torch.cat((ims, im.unsqueeze(0)),0)\n",
    "\n",
    "    return ims"
   ]
  },
  {
   "cell_type": "code",
   "execution_count": 75,
   "id": "51d124a3",
   "metadata": {},
   "outputs": [],
   "source": [
    "img = to_input_image(negative_img, 224)"
   ]
  },
  {
   "cell_type": "code",
   "execution_count": 76,
   "id": "1630a4d7",
   "metadata": {},
   "outputs": [
    {
     "data": {
      "text/plain": [
       "torch.Size([1621, 3, 224, 224])"
      ]
     },
     "execution_count": 76,
     "metadata": {},
     "output_type": "execute_result"
    }
   ],
   "source": [
    "img.size()"
   ]
  },
  {
   "cell_type": "code",
   "execution_count": 77,
   "id": "e31d7c9b",
   "metadata": {},
   "outputs": [],
   "source": [
    "resnet_model = torchvision.models.resnet50(pretrained=True)"
   ]
  },
  {
   "cell_type": "code",
   "execution_count": 78,
   "id": "85a7ab69",
   "metadata": {},
   "outputs": [],
   "source": [
    "y_hat = resnet_model(img)"
   ]
  },
  {
   "cell_type": "code",
   "execution_count": 79,
   "id": "eac89348",
   "metadata": {},
   "outputs": [
    {
     "data": {
      "text/plain": [
       "torch.Size([1621, 1000])"
      ]
     },
     "execution_count": 79,
     "metadata": {},
     "output_type": "execute_result"
    }
   ],
   "source": [
    "y_hat.size()"
   ]
  },
  {
   "cell_type": "code",
   "execution_count": 103,
   "id": "36606e39",
   "metadata": {
    "scrolled": false
   },
   "outputs": [
    {
     "ename": "NameError",
     "evalue": "name 'IdentifyDataset' is not defined",
     "output_type": "error",
     "traceback": [
      "\u001b[0;31m---------------------------------------------------------------------------\u001b[0m",
      "\u001b[0;31mNameError\u001b[0m                                 Traceback (most recent call last)",
      "\u001b[0;32m<ipython-input-103-52a7ef6de177>\u001b[0m in \u001b[0;36m<module>\u001b[0;34m\u001b[0m\n\u001b[1;32m      7\u001b[0m \u001b[0mlogger\u001b[0m \u001b[0;34m=\u001b[0m \u001b[0mTensorBoardLogger\u001b[0m\u001b[0;34m(\u001b[0m\u001b[0mos\u001b[0m\u001b[0;34m.\u001b[0m\u001b[0mpath\u001b[0m\u001b[0;34m.\u001b[0m\u001b[0mjoin\u001b[0m\u001b[0;34m(\u001b[0m\u001b[0;34m\"/home/xwm/DeepSVFilter/code\"\u001b[0m\u001b[0;34m,\u001b[0m \u001b[0;34m\"tblogs_predict_\"\u001b[0m\u001b[0;34m)\u001b[0m\u001b[0;34m,\u001b[0m \u001b[0mname\u001b[0m\u001b[0;34m=\u001b[0m\u001b[0;34m'my_model'\u001b[0m\u001b[0;34m)\u001b[0m\u001b[0;34m\u001b[0m\u001b[0;34m\u001b[0m\u001b[0m\n\u001b[1;32m      8\u001b[0m \u001b[0;34m\u001b[0m\u001b[0m\n\u001b[0;32m----> 9\u001b[0;31m \u001b[0mmodel\u001b[0m \u001b[0;34m=\u001b[0m \u001b[0mIDENet\u001b[0m\u001b[0;34m(\u001b[0m\u001b[0mpositive_img\u001b[0m\u001b[0;34m,\u001b[0m \u001b[0mnegative_img\u001b[0m\u001b[0;34m)\u001b[0m\u001b[0;34m\u001b[0m\u001b[0;34m\u001b[0m\u001b[0m\n\u001b[0m\u001b[1;32m     10\u001b[0m \u001b[0;34m\u001b[0m\u001b[0m\n\u001b[1;32m     11\u001b[0m trainer = pl.Trainer(\n",
      "\u001b[0;32m~/DeepSVFilter/code/net.py\u001b[0m in \u001b[0;36m__init__\u001b[0;34m(self, positive_img, negative_img)\u001b[0m\n\u001b[1;32m     24\u001b[0m         \u001b[0mself\u001b[0m\u001b[0;34m.\u001b[0m\u001b[0mpositive_img\u001b[0m \u001b[0;34m=\u001b[0m \u001b[0mpositive_img\u001b[0m\u001b[0;34m\u001b[0m\u001b[0;34m\u001b[0m\u001b[0m\n\u001b[1;32m     25\u001b[0m         \u001b[0mself\u001b[0m\u001b[0;34m.\u001b[0m\u001b[0mnegative_img\u001b[0m \u001b[0;34m=\u001b[0m \u001b[0mnegative_img\u001b[0m\u001b[0;34m\u001b[0m\u001b[0;34m\u001b[0m\u001b[0m\n\u001b[0;32m---> 26\u001b[0;31m \u001b[0;34m\u001b[0m\u001b[0m\n\u001b[0m\u001b[1;32m     27\u001b[0m \u001b[0;34m\u001b[0m\u001b[0m\n\u001b[1;32m     28\u001b[0m         \u001b[0mself\u001b[0m\u001b[0;34m.\u001b[0m\u001b[0mresnet_model\u001b[0m \u001b[0;34m=\u001b[0m \u001b[0mtorchvision\u001b[0m\u001b[0;34m.\u001b[0m\u001b[0mmodels\u001b[0m\u001b[0;34m.\u001b[0m\u001b[0mresnet50\u001b[0m\u001b[0;34m(\u001b[0m\u001b[0mpretrained\u001b[0m\u001b[0;34m=\u001b[0m\u001b[0;32mTrue\u001b[0m\u001b[0;34m)\u001b[0m \u001b[0;31m# [224, 224] -> 1000\u001b[0m\u001b[0;34m\u001b[0m\u001b[0;34m\u001b[0m\u001b[0m\n",
      "\u001b[0;31mNameError\u001b[0m: name 'IdentifyDataset' is not defined"
     ]
    }
   ],
   "source": [
    "from pytorch_lightning.loggers import TensorBoardLogger\n",
    "import os\n",
    "\n",
    "from net import IDENet\n",
    "\n",
    "\n",
    "logger = TensorBoardLogger(os.path.join(\"/home/xwm/DeepSVFilter/code\", \"tblogs_predict_\"), name='my_model')\n",
    "\n",
    "model = IDENet(positive_img, negative_img)\n",
    "\n",
    "trainer = pl.Trainer(\n",
    "    max_epochs=200,\n",
    "    gpus=1,\n",
    "    # replace_sampler_ddp=False,\n",
    "    progress_bar_refresh_rate=0,\n",
    "    logger=logger,\n",
    "    # val_percent_check=0,\n",
    "    # callbacks=[checkpoint_callback],\n",
    "    # resume_from_checkpoint=resume\n",
    ")\n",
    "\n",
    "trainer.fit(model)"
   ]
  },
  {
   "cell_type": "code",
   "execution_count": 102,
   "id": "d1de7ea4",
   "metadata": {},
   "outputs": [
    {
     "data": {
      "text/plain": [
       "<utilities.IdentifyDataset at 0x7fefe8e03e48>"
      ]
     },
     "execution_count": 102,
     "metadata": {},
     "output_type": "execute_result"
    }
   ],
   "source": [
    "from utilities import IdentifyDataset\n",
    "IdentifyDataset(positive_img, negative_img)"
   ]
  },
  {
   "cell_type": "code",
   "execution_count": 4,
   "id": "1de6c339",
   "metadata": {},
   "outputs": [],
   "source": [
    "from utilities import preprocess, mymkdir\n",
    "from pudb import set_trace\n",
    "import pandas as pd\n",
    "import random\n",
    "import numpy as np\n",
    "import torchvision\n",
    "import math\n",
    "import torch\n",
    "import matplotlib.pyplot as plt\n",
    "from pytorch_lightning.loggers import TensorBoardLogger\n",
    "import os\n",
    "from net import IDENet\n",
    "import pytorch_lightning as pl\n",
    "from pytorch_lightning import seed_everything\n",
    "from pytorch_lightning.callbacks import ModelCheckpoint\n",
    "from multiprocessing import Pool, cpu_count\n",
    "\n",
    "data_dir = \"../datasets/NA12878_PacBio_MtSinai/\"\n",
    "chromosome = \"chr1\"\n",
    "\n",
    "\n",
    "pool = Pool(2)\n",
    "if os.path.exists(data_dir + 'image/' + chromosome + '/positive_img' + '.pt'):\n",
    "    _positive_img, _negative_img = pool.map(torch.load, [data_dir + 'image/' + chromosome + '/positive_img' + '.pt', data_dir + 'image/' + chromosome + '/negative_img' + '.pt'])"
   ]
  },
  {
   "cell_type": "code",
   "execution_count": 9,
   "id": "3c527cd7",
   "metadata": {},
   "outputs": [
    {
     "name": "stderr",
     "output_type": "stream",
     "text": [
      "Clipping input data to the valid range for imshow with RGB data ([0..1] for floats or [0..255] for integers).\n"
     ]
    },
    {
     "data": {
      "text/plain": [
       "<matplotlib.image.AxesImage at 0x7f78a05a0400>"
      ]
     },
     "execution_count": 9,
     "metadata": {},
     "output_type": "execute_result"
    },
    {
     "data": {
      "image/png": "[encoded data removed]",
      "text/plain": [
       "<Figure size 432x288 with 1 Axes>"
      ]
     },
     "metadata": {
      "needs_background": "light"
     },
     "output_type": "display_data"
    }
   ],
   "source": [
    "img = _negative_img[0].transpose(0, 2).transpose(0, 1)\n",
    "img = img.numpy()\n",
    "plt.imshow(img)"
   ]
  },
  {
   "cell_type": "code",
   "execution_count": 4,
   "id": "0c2eebca",
   "metadata": {},
   "outputs": [],
   "source": [
    "data_dir = \"../datasets/NA12878_PacBio_MtSinai/\"\n",
    "\n",
    "\n",
    "filename = data_dir + \"NA12878.sorted.vcf_chr\"\n",
    "file = open(filename,'r')\n",
    "label = [x.strip() for x in file]\n",
    "file.close()"
   ]
  },
  {
   "cell_type": "code",
   "execution_count": 6,
   "id": "1a235201",
   "metadata": {},
   "outputs": [
    {
     "data": {
      "text/plain": [
       "93"
      ]
     },
     "execution_count": 6,
     "metadata": {},
     "output_type": "execute_result"
    }
   ],
   "source": [
    "len(label)"
   ]
  },
  {
   "cell_type": "code",
   "execution_count": 8,
   "id": "3100c888",
   "metadata": {},
   "outputs": [],
   "source": [
    "import torch\n",
    "data_dir = \"../datasets/NA12878_PacBio_MtSinai/\"\n",
    "chromosome = \"chr1\"\n",
    "\n",
    "chromosome_sign = torch.load(data_dir + \"chromosome_sign/\" + chromosome + \".pt\")"
   ]
  },
  {
   "cell_type": "code",
   "execution_count": 9,
   "id": "4f4e4bcd",
   "metadata": {},
   "outputs": [
    {
     "data": {
      "text/plain": [
       "torch.Size([3, 249250621])"
      ]
     },
     "execution_count": 9,
     "metadata": {},
     "output_type": "execute_result"
    }
   ],
   "source": [
    "chromosome_sign.size()"
   ]
  },
  {
   "cell_type": "code",
   "execution_count": 10,
   "id": "599e2711",
   "metadata": {},
   "outputs": [],
   "source": [
    "import pysam\n",
    "\n",
    "data_dir = \"../datasets/NA12878_PacBio_MtSinai/\"\n",
    "\n",
    "sam_file_path = data_dir + \"sorted_final_merged.bam\"\n",
    "\n",
    "sam_file = pysam.AlignmentFile(sam_file_path, \"rb\")"
   ]
  },
  {
   "cell_type": "code",
   "execution_count": 16,
   "id": "624969eb",
   "metadata": {},
   "outputs": [],
   "source": [
    "for read in sam_file.fetch(\"chr1\", 0, 10001):\n",
    "    r = read"
   ]
  },
  {
   "cell_type": "code",
   "execution_count": 73,
   "id": "6a2f2c7c",
   "metadata": {},
   "outputs": [
    {
     "name": "stdout",
     "output_type": "stream",
     "text": [
      "chrM\n",
      "chr1\n",
      "chr2\n",
      "chr3\n",
      "chr4\n",
      "chr5\n",
      "chr6\n",
      "chr7\n",
      "chr8\n",
      "chr9\n",
      "chr10\n",
      "chr11\n",
      "chr12\n",
      "chr13\n",
      "chr14\n",
      "chr15\n",
      "chr16\n",
      "chr17\n",
      "chr18\n",
      "chr19\n",
      "chr20\n",
      "chr21\n",
      "chr22\n",
      "chrX\n",
      "chrY\n",
      "chr1_gl000191_random\n",
      "chr1_gl000192_random\n",
      "chr4_ctg9_hap1\n",
      "chr4_gl000193_random\n",
      "chr4_gl000194_random\n",
      "chr6_apd_hap1\n",
      "chr6_cox_hap2\n",
      "chr6_dbb_hap3\n",
      "chr6_mann_hap4\n",
      "chr6_mcf_hap5\n",
      "chr6_qbl_hap6\n",
      "chr6_ssto_hap7\n",
      "chr7_gl000195_random\n",
      "chr8_gl000196_random\n",
      "chr8_gl000197_random\n",
      "chr9_gl000198_random\n",
      "chr9_gl000199_random\n",
      "chr9_gl000200_random\n",
      "chr9_gl000201_random\n",
      "chr11_gl000202_random\n",
      "chr17_ctg5_hap1\n",
      "chr17_gl000203_random\n",
      "chr17_gl000204_random\n",
      "chr17_gl000205_random\n",
      "chr17_gl000206_random\n",
      "chr18_gl000207_random\n",
      "chr19_gl000208_random\n",
      "chr19_gl000209_random\n",
      "chr21_gl000210_random\n",
      "chrUn_gl000211\n",
      "chrUn_gl000212\n",
      "chrUn_gl000213\n",
      "chrUn_gl000214\n",
      "chrUn_gl000215\n",
      "chrUn_gl000216\n",
      "chrUn_gl000217\n",
      "chrUn_gl000218\n",
      "chrUn_gl000219\n",
      "chrUn_gl000220\n",
      "chrUn_gl000221\n",
      "chrUn_gl000222\n",
      "chrUn_gl000223\n",
      "chrUn_gl000224\n",
      "chrUn_gl000225\n",
      "chrUn_gl000226\n",
      "chrUn_gl000227\n",
      "chrUn_gl000228\n",
      "chrUn_gl000229\n",
      "chrUn_gl000230\n",
      "chrUn_gl000231\n",
      "chrUn_gl000232\n",
      "chrUn_gl000233\n",
      "chrUn_gl000234\n",
      "chrUn_gl000235\n",
      "chrUn_gl000236\n",
      "chrUn_gl000237\n",
      "chrUn_gl000238\n",
      "chrUn_gl000239\n",
      "chrUn_gl000240\n",
      "chrUn_gl000241\n",
      "chrUn_gl000242\n",
      "chrUn_gl000243\n",
      "chrUn_gl000244\n",
      "chrUn_gl000245\n",
      "chrUn_gl000246\n",
      "chrUn_gl000247\n",
      "chrUn_gl000248\n",
      "chrUn_gl000249\n"
     ]
    }
   ],
   "source": [
    "for i in sam_file.references:\n",
    "    print(i)"
   ]
  },
  {
   "cell_type": "code",
   "execution_count": 71,
   "id": "deea949e",
   "metadata": {},
   "outputs": [
    {
     "data": {
      "text/plain": [
       "(16571,\n",
       " 249250621,\n",
       " 243199373,\n",
       " 198022430,\n",
       " 191154276,\n",
       " 180915260,\n",
       " 171115067,\n",
       " 159138663,\n",
       " 146364022,\n",
       " 141213431,\n",
       " 135534747,\n",
       " 135006516,\n",
       " 133851895,\n",
       " 115169878,\n",
       " 107349540,\n",
       " 102531392,\n",
       " 90354753,\n",
       " 81195210,\n",
       " 78077248,\n",
       " 59128983,\n",
       " 63025520,\n",
       " 48129895,\n",
       " 51304566,\n",
       " 155270560,\n",
       " 59373566,\n",
       " 106433,\n",
       " 547496,\n",
       " 590426,\n",
       " 189789,\n",
       " 191469,\n",
       " 4622290,\n",
       " 4795371,\n",
       " 4610396,\n",
       " 4683263,\n",
       " 4833398,\n",
       " 4611984,\n",
       " 4928567,\n",
       " 182896,\n",
       " 38914,\n",
       " 37175,\n",
       " 90085,\n",
       " 169874,\n",
       " 187035,\n",
       " 36148,\n",
       " 40103,\n",
       " 1680828,\n",
       " 37498,\n",
       " 81310,\n",
       " 174588,\n",
       " 41001,\n",
       " 4262,\n",
       " 92689,\n",
       " 159169,\n",
       " 27682,\n",
       " 166566,\n",
       " 186858,\n",
       " 164239,\n",
       " 137718,\n",
       " 172545,\n",
       " 172294,\n",
       " 172149,\n",
       " 161147,\n",
       " 179198,\n",
       " 161802,\n",
       " 155397,\n",
       " 186861,\n",
       " 180455,\n",
       " 179693,\n",
       " 211173,\n",
       " 15008,\n",
       " 128374,\n",
       " 129120,\n",
       " 19913,\n",
       " 43691,\n",
       " 27386,\n",
       " 40652,\n",
       " 45941,\n",
       " 40531,\n",
       " 34474,\n",
       " 41934,\n",
       " 45867,\n",
       " 39939,\n",
       " 33824,\n",
       " 41933,\n",
       " 42152,\n",
       " 43523,\n",
       " 43341,\n",
       " 39929,\n",
       " 36651,\n",
       " 38154,\n",
       " 36422,\n",
       " 39786,\n",
       " 38502)"
      ]
     },
     "execution_count": 71,
     "metadata": {},
     "output_type": "execute_result"
    }
   ],
   "source": [
    "sam_file.lengths"
   ]
  },
  {
   "cell_type": "code",
   "execution_count": 97,
   "id": "bab8bb3c",
   "metadata": {},
   "outputs": [],
   "source": [
    "p = r.get_reference_positions(full_length=True)"
   ]
  },
  {
   "cell_type": "code",
   "execution_count": 57,
   "id": "203d0170",
   "metadata": {},
   "outputs": [],
   "source": [
    "pset = set(p)"
   ]
  },
  {
   "cell_type": "code",
   "execution_count": 98,
   "id": "5ddfceec",
   "metadata": {},
   "outputs": [
    {
     "data": {
      "text/plain": [
       "7320"
      ]
     },
     "execution_count": 98,
     "metadata": {},
     "output_type": "execute_result"
    }
   ],
   "source": [
    "len(p)"
   ]
  },
  {
   "cell_type": "code",
   "execution_count": 59,
   "id": "8af6cd45",
   "metadata": {},
   "outputs": [
    {
     "data": {
      "text/plain": [
       "2320"
      ]
     },
     "execution_count": 59,
     "metadata": {},
     "output_type": "execute_result"
    }
   ],
   "source": [
    "len(pset)"
   ]
  },
  {
   "cell_type": "code",
   "execution_count": 46,
   "id": "f25f6958",
   "metadata": {
    "scrolled": true
   },
   "outputs": [
    {
     "data": {
      "text/plain": [
       "7320"
      ]
     },
     "execution_count": 46,
     "metadata": {},
     "output_type": "execute_result"
    }
   ],
   "source": [
    "len(r.get_forward_sequence())"
   ]
  },
  {
   "cell_type": "code",
   "execution_count": null,
   "id": "8e09191c",
   "metadata": {},
   "outputs": [],
   "source": []
  },
  {
   "cell_type": "raw",
   "id": "edff9223",
   "metadata": {},
   "source": [
    "print(r)"
   ]
  },
  {
   "cell_type": "code",
   "execution_count": 45,
   "id": "5316ca5c",
   "metadata": {},
   "outputs": [
    {
     "data": {
      "text/plain": [
       "True"
      ]
     },
     "execution_count": 45,
     "metadata": {},
     "output_type": "execute_result"
    }
   ],
   "source": [
    "r.is_reverse\n"
   ]
  },
  {
   "cell_type": "code",
   "execution_count": 26,
   "id": "bd4ff6ba",
   "metadata": {},
   "outputs": [],
   "source": [
    "bam_op_count = torch.zeros([9, 10], dtype=torch.int)"
   ]
  },
  {
   "cell_type": "code",
   "execution_count": 27,
   "id": "b0ba51f4",
   "metadata": {},
   "outputs": [
    {
     "data": {
      "text/plain": [
       "torch.Size([9, 10])"
      ]
     },
     "execution_count": 27,
     "metadata": {},
     "output_type": "execute_result"
    }
   ],
   "source": [
    "bam_op_count.size()"
   ]
  },
  {
   "cell_type": "code",
   "execution_count": 28,
   "id": "64f683ab",
   "metadata": {},
   "outputs": [],
   "source": [
    "chromosome = \"chr1\"\n",
    "\n",
    "ref_chromosome_filename = data_dir + \"chr/\" + chromosome + \".fa\"\n",
    "fa = pysam.FastaFile(ref_chromosome_filename)\n",
    "chr_string = fa.fetch(chromosome)"
   ]
  },
  {
   "cell_type": "code",
   "execution_count": 61,
   "id": "dbac2fad",
   "metadata": {},
   "outputs": [
    {
     "data": {
      "text/plain": [
       "2423"
      ]
     },
     "execution_count": 61,
     "metadata": {},
     "output_type": "execute_result"
    }
   ],
   "source": [
    "start, end = (r.reference_start, r.reference_end)\n",
    "len(chr_string[start:end])"
   ]
  },
  {
   "cell_type": "code",
   "execution_count": 92,
   "id": "f3ac3dc0",
   "metadata": {},
   "outputs": [
    {
     "data": {
      "text/plain": [
       "(array('I', [2319, 1921, 104, 0, 3080, 0, 0, 0, 0, 0, 0]),\n",
       " array('I', [358, 283, 74, 0, 2, 0, 0, 0, 0, 0, 0]))"
      ]
     },
     "execution_count": 92,
     "metadata": {},
     "output_type": "execute_result"
    }
   ],
   "source": [
    "r.get_cigar_stats()"
   ]
  },
  {
   "cell_type": "code",
   "execution_count": 72,
   "id": "4506f5f4",
   "metadata": {},
   "outputs": [
    {
     "data": {
      "text/plain": [
       "249250621"
      ]
     },
     "execution_count": 72,
     "metadata": {},
     "output_type": "execute_result"
    }
   ],
   "source": [
    "len(chr_string)"
   ]
  },
  {
   "cell_type": "code",
   "execution_count": 79,
   "id": "dd59b5cc",
   "metadata": {},
   "outputs": [
    {
     "data": {
      "text/plain": [
       "249250621"
      ]
     },
     "execution_count": 79,
     "metadata": {},
     "output_type": "execute_result"
    }
   ],
   "source": [
    "sam_file.lengths[sam_file.references.index(chromosome)]"
   ]
  },
  {
   "cell_type": "code",
   "execution_count": 84,
   "id": "b9a60321",
   "metadata": {},
   "outputs": [
    {
     "data": {
      "text/plain": [
       "7320"
      ]
     },
     "execution_count": 84,
     "metadata": {},
     "output_type": "execute_result"
    }
   ],
   "source": [
    "len(r.get_forward_sequence())"
   ]
  },
  {
   "cell_type": "code",
   "execution_count": 83,
   "id": "c58e6bbc",
   "metadata": {},
   "outputs": [
    {
     "data": {
      "text/plain": [
       "2423"
      ]
     },
     "execution_count": 83,
     "metadata": {},
     "output_type": "execute_result"
    }
   ],
   "source": [
    "len(chr_string[start:end])"
   ]
  },
  {
   "cell_type": "code",
   "execution_count": 14,
   "id": "2a68be98",
   "metadata": {},
   "outputs": [
    {
     "ename": "NameError",
     "evalue": "name 'r' is not defined",
     "output_type": "error",
     "traceback": [
      "\u001b[0;31m---------------------------------------------------------------------------\u001b[0m",
      "\u001b[0;31mNameError\u001b[0m                                 Traceback (most recent call last)",
      "\u001b[0;32m<ipython-input-14-0136afe584ba>\u001b[0m in \u001b[0;36m<module>\u001b[0;34m\u001b[0m\n\u001b[0;32m----> 1\u001b[0;31m \u001b[0mr\u001b[0m\u001b[0;34m.\u001b[0m\u001b[0mcigar\u001b[0m\u001b[0;34m\u001b[0m\u001b[0;34m\u001b[0m\u001b[0m\n\u001b[0m",
      "\u001b[0;31mNameError\u001b[0m: name 'r' is not defined"
     ]
    }
   ],
   "source": [
    "r.cigar"
   ]
  },
  {
   "cell_type": "code",
   "execution_count": 93,
   "id": "685591b7",
   "metadata": {},
   "outputs": [],
   "source": [
    "sum = [0] * 10\n",
    "for operation, length in read.cigar: # (operation, length)\n",
    "    sum[operation] += length"
   ]
  },
  {
   "cell_type": "code",
   "execution_count": 100,
   "id": "a04bf822",
   "metadata": {},
   "outputs": [
    {
     "data": {
      "text/plain": [
       "[2319, 1921, 104, 0, 3080, 0, 0, 0, 0, 0]"
      ]
     },
     "execution_count": 100,
     "metadata": {},
     "output_type": "execute_result"
    }
   ],
   "source": [
    "sum"
   ]
  },
  {
   "cell_type": "code",
   "execution_count": 99,
   "id": "5037a42a",
   "metadata": {},
   "outputs": [
    {
     "data": {
      "text/plain": [
       "7320"
      ]
     },
     "execution_count": 99,
     "metadata": {},
     "output_type": "execute_result"
    }
   ],
   "source": [
    "sum[0] + sum[1] + sum[4]"
   ]
  },
  {
   "cell_type": "code",
   "execution_count": 95,
   "id": "344636bf",
   "metadata": {},
   "outputs": [],
   "source": [
    "all_sum = 0\n",
    "for operation, length in read.cigar: # (operation, length)\n",
    "    all_sum += length"
   ]
  },
  {
   "cell_type": "code",
   "execution_count": 96,
   "id": "2b629964",
   "metadata": {},
   "outputs": [
    {
     "data": {
      "text/plain": [
       "7424"
      ]
     },
     "execution_count": 96,
     "metadata": {},
     "output_type": "execute_result"
    }
   ],
   "source": [
    "all_sum"
   ]
  },
  {
   "cell_type": "code",
   "execution_count": 187,
   "id": "16dfd879",
   "metadata": {},
   "outputs": [],
   "source": [
    "a = 0\n",
    "b = 10\n",
    "l = np.array([])"
   ]
  },
  {
   "cell_type": "code",
   "execution_count": 193,
   "id": "35ff560d",
   "metadata": {},
   "outputs": [],
   "source": [
    "l = np.append(l, [a] * b)"
   ]
  },
  {
   "cell_type": "code",
   "execution_count": 207,
   "id": "93b03a92",
   "metadata": {},
   "outputs": [
    {
     "data": {
      "text/plain": [
       "array([0., 0., 0., 0., 0., 0., 0., 0., 0., 0., 0., 0., 0., 0., 0., 0., 0.,\n",
       "       0., 0., 0.])"
      ]
     },
     "execution_count": 207,
     "metadata": {},
     "output_type": "execute_result"
    }
   ],
   "source": [
    "l"
   ]
  },
  {
   "cell_type": "code",
   "execution_count": 1,
   "id": "88274a0d",
   "metadata": {},
   "outputs": [],
   "source": [
    "import utilities as ut\n",
    "import pysam\n",
    "data_dir = \"../datasets/NA12878_PacBio_MtSinai/\"\n",
    "bam_path = data_dir + \"sorted_final_merged.bam\"\n",
    "sam_file = pysam.AlignmentFile(bam_path, \"rb\")\n",
    "chro = \"chrM\"\n",
    "\n",
    "begin = 1\n",
    "end = 100"
   ]
  },
  {
   "cell_type": "code",
   "execution_count": 2,
   "id": "1502990e",
   "metadata": {
    "scrolled": true
   },
   "outputs": [
    {
     "name": "stdout",
     "output_type": "stream",
     "text": [
      "======= to input image begin =========\n"
     ]
    },
    {
     "ename": "ValueError",
     "evalue": "size shape must match input shape. Input is 1D, size is 2",
     "output_type": "error",
     "traceback": [
      "\u001b[0;31m---------------------------------------------------------------------------\u001b[0m",
      "\u001b[0;31mValueError\u001b[0m                                Traceback (most recent call last)",
      "\u001b[0;32m<ipython-input-2-f24f211b02cd>\u001b[0m in \u001b[0;36m<module>\u001b[0;34m\u001b[0m\n\u001b[0;32m----> 1\u001b[0;31m \u001b[0mut\u001b[0m\u001b[0;34m.\u001b[0m\u001b[0mcigar_img\u001b[0m\u001b[0;34m(\u001b[0m\u001b[0msam_file\u001b[0m\u001b[0;34m,\u001b[0m \u001b[0mchro\u001b[0m\u001b[0;34m,\u001b[0m \u001b[0mbegin\u001b[0m\u001b[0;34m,\u001b[0m \u001b[0mend\u001b[0m\u001b[0;34m)\u001b[0m\u001b[0;34m\u001b[0m\u001b[0;34m\u001b[0m\u001b[0m\n\u001b[0m",
      "\u001b[0;32m~/DeepSVFilter/code/utilities.py\u001b[0m in \u001b[0;36mcigar_img\u001b[0;34m(sam_file, chromosome, begin, end)\u001b[0m\n\u001b[1;32m     95\u001b[0m         \u001b[0mcigars_img\u001b[0m\u001b[0;34m[\u001b[0m\u001b[0mi\u001b[0m\u001b[0;34m,\u001b[0m \u001b[0;34m:\u001b[0m\u001b[0mlen\u001b[0m\u001b[0;34m(\u001b[0m\u001b[0mr_c\u001b[0m\u001b[0;34m)\u001b[0m\u001b[0;34m]\u001b[0m \u001b[0;34m=\u001b[0m \u001b[0mtorch\u001b[0m\u001b[0;34m.\u001b[0m\u001b[0mfrom_numpy\u001b[0m\u001b[0;34m(\u001b[0m\u001b[0mr_c\u001b[0m\u001b[0;34m)\u001b[0m\u001b[0;34m\u001b[0m\u001b[0;34m\u001b[0m\u001b[0m\n\u001b[1;32m     96\u001b[0m \u001b[0;34m\u001b[0m\u001b[0m\n\u001b[0;32m---> 97\u001b[0;31m     \u001b[0mcigars_img\u001b[0m \u001b[0;34m=\u001b[0m \u001b[0mresize\u001b[0m\u001b[0;34m(\u001b[0m\u001b[0mcigars_img\u001b[0m\u001b[0;34m)\u001b[0m\u001b[0;34m\u001b[0m\u001b[0;34m\u001b[0m\u001b[0m\n\u001b[0m\u001b[1;32m     98\u001b[0m \u001b[0;34m\u001b[0m\u001b[0m\n\u001b[1;32m     99\u001b[0m     \u001b[0mprint\u001b[0m\u001b[0;34m(\u001b[0m\u001b[0;34m\"======= to input image end =========\"\u001b[0m\u001b[0;34m)\u001b[0m\u001b[0;34m\u001b[0m\u001b[0;34m\u001b[0m\u001b[0m\n",
      "\u001b[0;32m~/anaconda3/envs/SV/lib/python3.6/site-packages/torch/nn/modules/module.py\u001b[0m in \u001b[0;36m_call_impl\u001b[0;34m(self, *input, **kwargs)\u001b[0m\n\u001b[1;32m   1100\u001b[0m         if not (self._backward_hooks or self._forward_hooks or self._forward_pre_hooks or _global_backward_hooks\n\u001b[1;32m   1101\u001b[0m                 or _global_forward_hooks or _global_forward_pre_hooks):\n\u001b[0;32m-> 1102\u001b[0;31m             \u001b[0;32mreturn\u001b[0m \u001b[0mforward_call\u001b[0m\u001b[0;34m(\u001b[0m\u001b[0;34m*\u001b[0m\u001b[0minput\u001b[0m\u001b[0;34m,\u001b[0m \u001b[0;34m**\u001b[0m\u001b[0mkwargs\u001b[0m\u001b[0;34m)\u001b[0m\u001b[0;34m\u001b[0m\u001b[0;34m\u001b[0m\u001b[0m\n\u001b[0m\u001b[1;32m   1103\u001b[0m         \u001b[0;31m# Do not call functions when jit is used\u001b[0m\u001b[0;34m\u001b[0m\u001b[0;34m\u001b[0m\u001b[0;34m\u001b[0m\u001b[0m\n\u001b[1;32m   1104\u001b[0m         \u001b[0mfull_backward_hooks\u001b[0m\u001b[0;34m,\u001b[0m \u001b[0mnon_full_backward_hooks\u001b[0m \u001b[0;34m=\u001b[0m \u001b[0;34m[\u001b[0m\u001b[0;34m]\u001b[0m\u001b[0;34m,\u001b[0m \u001b[0;34m[\u001b[0m\u001b[0;34m]\u001b[0m\u001b[0;34m\u001b[0m\u001b[0;34m\u001b[0m\u001b[0m\n",
      "\u001b[0;32m~/anaconda3/envs/SV/lib/python3.6/site-packages/torchvision/transforms/transforms.py\u001b[0m in \u001b[0;36mforward\u001b[0;34m(self, img)\u001b[0m\n\u001b[1;32m    302\u001b[0m             \u001b[0mPIL\u001b[0m \u001b[0mImage\u001b[0m \u001b[0;32mor\u001b[0m \u001b[0mTensor\u001b[0m\u001b[0;34m:\u001b[0m \u001b[0mRescaled\u001b[0m \u001b[0mimage\u001b[0m\u001b[0;34m.\u001b[0m\u001b[0;34m\u001b[0m\u001b[0;34m\u001b[0m\u001b[0m\n\u001b[1;32m    303\u001b[0m         \"\"\"\n\u001b[0;32m--> 304\u001b[0;31m         \u001b[0;32mreturn\u001b[0m \u001b[0mF\u001b[0m\u001b[0;34m.\u001b[0m\u001b[0mresize\u001b[0m\u001b[0;34m(\u001b[0m\u001b[0mimg\u001b[0m\u001b[0;34m,\u001b[0m \u001b[0mself\u001b[0m\u001b[0;34m.\u001b[0m\u001b[0msize\u001b[0m\u001b[0;34m,\u001b[0m \u001b[0mself\u001b[0m\u001b[0;34m.\u001b[0m\u001b[0minterpolation\u001b[0m\u001b[0;34m,\u001b[0m \u001b[0mself\u001b[0m\u001b[0;34m.\u001b[0m\u001b[0mmax_size\u001b[0m\u001b[0;34m,\u001b[0m \u001b[0mself\u001b[0m\u001b[0;34m.\u001b[0m\u001b[0mantialias\u001b[0m\u001b[0;34m)\u001b[0m\u001b[0;34m\u001b[0m\u001b[0;34m\u001b[0m\u001b[0m\n\u001b[0m\u001b[1;32m    305\u001b[0m \u001b[0;34m\u001b[0m\u001b[0m\n\u001b[1;32m    306\u001b[0m     \u001b[0;32mdef\u001b[0m \u001b[0m__repr__\u001b[0m\u001b[0;34m(\u001b[0m\u001b[0mself\u001b[0m\u001b[0;34m)\u001b[0m\u001b[0;34m:\u001b[0m\u001b[0;34m\u001b[0m\u001b[0;34m\u001b[0m\u001b[0m\n",
      "\u001b[0;32m~/anaconda3/envs/SV/lib/python3.6/site-packages/torchvision/transforms/functional.py\u001b[0m in \u001b[0;36mresize\u001b[0;34m(img, size, interpolation, max_size, antialias)\u001b[0m\n\u001b[1;32m    419\u001b[0m         \u001b[0;32mreturn\u001b[0m \u001b[0mF_pil\u001b[0m\u001b[0;34m.\u001b[0m\u001b[0mresize\u001b[0m\u001b[0;34m(\u001b[0m\u001b[0mimg\u001b[0m\u001b[0;34m,\u001b[0m \u001b[0msize\u001b[0m\u001b[0;34m=\u001b[0m\u001b[0msize\u001b[0m\u001b[0;34m,\u001b[0m \u001b[0minterpolation\u001b[0m\u001b[0;34m=\u001b[0m\u001b[0mpil_interpolation\u001b[0m\u001b[0;34m,\u001b[0m \u001b[0mmax_size\u001b[0m\u001b[0;34m=\u001b[0m\u001b[0mmax_size\u001b[0m\u001b[0;34m)\u001b[0m\u001b[0;34m\u001b[0m\u001b[0;34m\u001b[0m\u001b[0m\n\u001b[1;32m    420\u001b[0m \u001b[0;34m\u001b[0m\u001b[0m\n\u001b[0;32m--> 421\u001b[0;31m     \u001b[0;32mreturn\u001b[0m \u001b[0mF_t\u001b[0m\u001b[0;34m.\u001b[0m\u001b[0mresize\u001b[0m\u001b[0;34m(\u001b[0m\u001b[0mimg\u001b[0m\u001b[0;34m,\u001b[0m \u001b[0msize\u001b[0m\u001b[0;34m=\u001b[0m\u001b[0msize\u001b[0m\u001b[0;34m,\u001b[0m \u001b[0minterpolation\u001b[0m\u001b[0;34m=\u001b[0m\u001b[0minterpolation\u001b[0m\u001b[0;34m.\u001b[0m\u001b[0mvalue\u001b[0m\u001b[0;34m,\u001b[0m \u001b[0mmax_size\u001b[0m\u001b[0;34m=\u001b[0m\u001b[0mmax_size\u001b[0m\u001b[0;34m,\u001b[0m \u001b[0mantialias\u001b[0m\u001b[0;34m=\u001b[0m\u001b[0mantialias\u001b[0m\u001b[0;34m)\u001b[0m\u001b[0;34m\u001b[0m\u001b[0;34m\u001b[0m\u001b[0m\n\u001b[0m\u001b[1;32m    422\u001b[0m \u001b[0;34m\u001b[0m\u001b[0m\n\u001b[1;32m    423\u001b[0m \u001b[0;34m\u001b[0m\u001b[0m\n",
      "\u001b[0;32m~/anaconda3/envs/SV/lib/python3.6/site-packages/torchvision/transforms/functional_tensor.py\u001b[0m in \u001b[0;36mresize\u001b[0;34m(img, size, interpolation, max_size, antialias)\u001b[0m\n\u001b[1;32m    556\u001b[0m             \u001b[0mimg\u001b[0m \u001b[0;34m=\u001b[0m \u001b[0mtorch\u001b[0m\u001b[0;34m.\u001b[0m\u001b[0mops\u001b[0m\u001b[0;34m.\u001b[0m\u001b[0mtorchvision\u001b[0m\u001b[0;34m.\u001b[0m\u001b[0m_interpolate_bicubic2d_aa\u001b[0m\u001b[0;34m(\u001b[0m\u001b[0mimg\u001b[0m\u001b[0;34m,\u001b[0m \u001b[0;34m[\u001b[0m\u001b[0mnew_h\u001b[0m\u001b[0;34m,\u001b[0m \u001b[0mnew_w\u001b[0m\u001b[0;34m]\u001b[0m\u001b[0;34m,\u001b[0m \u001b[0malign_corners\u001b[0m\u001b[0;34m=\u001b[0m\u001b[0;32mFalse\u001b[0m\u001b[0;34m)\u001b[0m\u001b[0;34m\u001b[0m\u001b[0;34m\u001b[0m\u001b[0m\n\u001b[1;32m    557\u001b[0m     \u001b[0;32melse\u001b[0m\u001b[0;34m:\u001b[0m\u001b[0;34m\u001b[0m\u001b[0;34m\u001b[0m\u001b[0m\n\u001b[0;32m--> 558\u001b[0;31m         \u001b[0mimg\u001b[0m \u001b[0;34m=\u001b[0m \u001b[0minterpolate\u001b[0m\u001b[0;34m(\u001b[0m\u001b[0mimg\u001b[0m\u001b[0;34m,\u001b[0m \u001b[0msize\u001b[0m\u001b[0;34m=\u001b[0m\u001b[0;34m[\u001b[0m\u001b[0mnew_h\u001b[0m\u001b[0;34m,\u001b[0m \u001b[0mnew_w\u001b[0m\u001b[0;34m]\u001b[0m\u001b[0;34m,\u001b[0m \u001b[0mmode\u001b[0m\u001b[0;34m=\u001b[0m\u001b[0minterpolation\u001b[0m\u001b[0;34m,\u001b[0m \u001b[0malign_corners\u001b[0m\u001b[0;34m=\u001b[0m\u001b[0malign_corners\u001b[0m\u001b[0;34m)\u001b[0m\u001b[0;34m\u001b[0m\u001b[0;34m\u001b[0m\u001b[0m\n\u001b[0m\u001b[1;32m    559\u001b[0m \u001b[0;34m\u001b[0m\u001b[0m\n\u001b[1;32m    560\u001b[0m     \u001b[0;32mif\u001b[0m \u001b[0minterpolation\u001b[0m \u001b[0;34m==\u001b[0m \u001b[0;34m\"bicubic\"\u001b[0m \u001b[0;32mand\u001b[0m \u001b[0mout_dtype\u001b[0m \u001b[0;34m==\u001b[0m \u001b[0mtorch\u001b[0m\u001b[0;34m.\u001b[0m\u001b[0muint8\u001b[0m\u001b[0;34m:\u001b[0m\u001b[0;34m\u001b[0m\u001b[0;34m\u001b[0m\u001b[0m\n",
      "\u001b[0;32m~/anaconda3/envs/SV/lib/python3.6/site-packages/torch/nn/functional.py\u001b[0m in \u001b[0;36minterpolate\u001b[0;34m(input, size, scale_factor, mode, align_corners, recompute_scale_factor)\u001b[0m\n\u001b[1;32m   3651\u001b[0m             \u001b[0;32mif\u001b[0m \u001b[0mlen\u001b[0m\u001b[0;34m(\u001b[0m\u001b[0msize\u001b[0m\u001b[0;34m)\u001b[0m \u001b[0;34m!=\u001b[0m \u001b[0mdim\u001b[0m\u001b[0;34m:\u001b[0m\u001b[0;34m\u001b[0m\u001b[0;34m\u001b[0m\u001b[0m\n\u001b[1;32m   3652\u001b[0m                 raise ValueError(\n\u001b[0;32m-> 3653\u001b[0;31m                     \u001b[0;34m\"size shape must match input shape. \"\u001b[0m \u001b[0;34m\"Input is {}D, size is {}\"\u001b[0m\u001b[0;34m.\u001b[0m\u001b[0mformat\u001b[0m\u001b[0;34m(\u001b[0m\u001b[0mdim\u001b[0m\u001b[0;34m,\u001b[0m \u001b[0mlen\u001b[0m\u001b[0;34m(\u001b[0m\u001b[0msize\u001b[0m\u001b[0;34m)\u001b[0m\u001b[0;34m)\u001b[0m\u001b[0;34m\u001b[0m\u001b[0;34m\u001b[0m\u001b[0m\n\u001b[0m\u001b[1;32m   3654\u001b[0m                 )\n\u001b[1;32m   3655\u001b[0m             \u001b[0moutput_size\u001b[0m \u001b[0;34m=\u001b[0m \u001b[0msize\u001b[0m\u001b[0;34m\u001b[0m\u001b[0;34m\u001b[0m\u001b[0m\n",
      "\u001b[0;31mValueError\u001b[0m: size shape must match input shape. Input is 1D, size is 2"
     ]
    }
   ],
   "source": [
    "ut.cigar_img(sam_file, chro, begin, end)"
   ]
  },
  {
   "cell_type": "code",
   "execution_count": 139,
   "id": "88fa7b0f",
   "metadata": {},
   "outputs": [],
   "source": [
    "t = torch.rand([3, 5])"
   ]
  },
  {
   "cell_type": "code",
   "execution_count": 206,
   "id": "6c8cb084",
   "metadata": {},
   "outputs": [
    {
     "data": {
      "text/plain": [
       "3"
      ]
     },
     "execution_count": 206,
     "metadata": {},
     "output_type": "execute_result"
    }
   ],
   "source": [
    "len(t.numpy())"
   ]
  },
  {
   "cell_type": "code",
   "execution_count": 143,
   "id": "7e6b2d4d",
   "metadata": {},
   "outputs": [
    {
     "ename": "RuntimeError",
     "evalue": "The expanded size of the tensor (60) must match the existing size (5) at non-singleton dimension 2.  Target sizes: [3, 5, 60].  Tensor sizes: [3, 5]",
     "output_type": "error",
     "traceback": [
      "\u001b[0;31m---------------------------------------------------------------------------\u001b[0m",
      "\u001b[0;31mRuntimeError\u001b[0m                              Traceback (most recent call last)",
      "\u001b[0;32m<ipython-input-143-91d3cb9f9f53>\u001b[0m in \u001b[0;36m<module>\u001b[0;34m\u001b[0m\n\u001b[0;32m----> 1\u001b[0;31m \u001b[0mt\u001b[0m\u001b[0;34m.\u001b[0m\u001b[0mexpand\u001b[0m\u001b[0;34m(\u001b[0m\u001b[0;36m3\u001b[0m\u001b[0;34m,\u001b[0m \u001b[0;36m5\u001b[0m\u001b[0;34m,\u001b[0m \u001b[0;36m60\u001b[0m\u001b[0;34m)\u001b[0m\u001b[0;34m\u001b[0m\u001b[0;34m\u001b[0m\u001b[0m\n\u001b[0m",
      "\u001b[0;31mRuntimeError\u001b[0m: The expanded size of the tensor (60) must match the existing size (5) at non-singleton dimension 2.  Target sizes: [3, 5, 60].  Tensor sizes: [3, 5]"
     ]
    }
   ],
   "source": [
    "t.expand(3, 5, 60)"
   ]
  },
  {
   "cell_type": "code",
   "execution_count": 200,
   "id": "6bc87588",
   "metadata": {},
   "outputs": [],
   "source": [
    "a=[[1,2,3],[4,5],[7]]"
   ]
  },
  {
   "cell_type": "code",
   "execution_count": 201,
   "id": "7582803c",
   "metadata": {},
   "outputs": [
    {
     "name": "stdout",
     "output_type": "stream",
     "text": [
      "0\n",
      "1\n",
      "2\n"
     ]
    }
   ],
   "source": [
    "for i, r_c in enumerate(a):\n",
    "    print(i)"
   ]
  },
  {
   "cell_type": "code",
   "execution_count": 146,
   "id": "610e7317",
   "metadata": {},
   "outputs": [],
   "source": [
    "import numpy as np"
   ]
  },
  {
   "cell_type": "code",
   "execution_count": 176,
   "id": "dd3790e1",
   "metadata": {},
   "outputs": [],
   "source": [
    "t = torch.rand([3])"
   ]
  },
  {
   "cell_type": "code",
   "execution_count": 196,
   "id": "8fe4a588",
   "metadata": {},
   "outputs": [],
   "source": [
    "tt = torch.rand([2])"
   ]
  },
  {
   "cell_type": "code",
   "execution_count": 175,
   "id": "bfd8b095",
   "metadata": {},
   "outputs": [
    {
     "data": {
      "text/plain": [
       "2"
      ]
     },
     "execution_count": 175,
     "metadata": {},
     "output_type": "execute_result"
    }
   ],
   "source": [
    "len(t)"
   ]
  },
  {
   "cell_type": "code",
   "execution_count": 177,
   "id": "18cda846",
   "metadata": {},
   "outputs": [],
   "source": [
    "tt = [1, 2]"
   ]
  },
  {
   "cell_type": "code",
   "execution_count": 197,
   "id": "7a10c3fb",
   "metadata": {},
   "outputs": [],
   "source": [
    "t[:2] = tt"
   ]
  },
  {
   "cell_type": "code",
   "execution_count": 171,
   "id": "5d922bff",
   "metadata": {},
   "outputs": [
    {
     "data": {
      "text/plain": [
       "tensor([0.0504, 0.2557, 0.5756])"
      ]
     },
     "execution_count": 171,
     "metadata": {},
     "output_type": "execute_result"
    }
   ],
   "source": [
    "t"
   ]
  },
  {
   "cell_type": "code",
   "execution_count": 182,
   "id": "c3aa7e77",
   "metadata": {},
   "outputs": [],
   "source": [
    "q = torch.Tensor()"
   ]
  },
  {
   "cell_type": "code",
   "execution_count": 183,
   "id": "671c4801",
   "metadata": {},
   "outputs": [
    {
     "ename": "AttributeError",
     "evalue": "'Tensor' object has no attribute 'extend'",
     "output_type": "error",
     "traceback": [
      "\u001b[0;31m---------------------------------------------------------------------------\u001b[0m",
      "\u001b[0;31mAttributeError\u001b[0m                            Traceback (most recent call last)",
      "\u001b[0;32m<ipython-input-183-ca492773adb6>\u001b[0m in \u001b[0;36m<module>\u001b[0;34m\u001b[0m\n\u001b[0;32m----> 1\u001b[0;31m \u001b[0mq\u001b[0m\u001b[0;34m.\u001b[0m\u001b[0mextend\u001b[0m\u001b[0;34m(\u001b[0m\u001b[0;34m)\u001b[0m\u001b[0;34m\u001b[0m\u001b[0;34m\u001b[0m\u001b[0m\n\u001b[0m",
      "\u001b[0;31mAttributeError\u001b[0m: 'Tensor' object has no attribute 'extend'"
     ]
    }
   ],
   "source": [
    "q.extend()"
   ]
  },
  {
   "cell_type": "code",
   "execution_count": 15,
   "id": "534a076f",
   "metadata": {},
   "outputs": [],
   "source": [
    "import pysam\n",
    "data_dir = \"../datasets/NA12878_PacBio_MtSinai/\"\n",
    "bam_path = data_dir + \"sorted_final_merged.bam\"\n",
    "sam_file = pysam.AlignmentFile(bam_path, \"rb\")\n",
    "\n",
    "for read in sam_file.fetch(\"chr1\"):\n",
    "    r = read\n",
    "    break"
   ]
  },
  {
   "cell_type": "code",
   "execution_count": 21,
   "id": "0e261c12",
   "metadata": {},
   "outputs": [
    {
     "data": {
      "text/plain": [
       "1723"
      ]
     },
     "execution_count": 21,
     "metadata": {},
     "output_type": "execute_result"
    }
   ],
   "source": [
    "chromosome = \"chr1\"\n",
    "\n",
    "ref_chromosome_filename = data_dir + \"chr/\" + chromosome + \".fa\"\n",
    "fa = pysam.FastaFile(ref_chromosome_filename)\n",
    "chr_string = fa.fetch(chromosome)\n",
    "start, end = (r.reference_start, r.reference_end)\n",
    "len(r.get_forward_sequence())"
   ]
  },
  {
   "cell_type": "code",
   "execution_count": 20,
   "id": "94dfe378",
   "metadata": {},
   "outputs": [
    {
     "data": {
      "text/plain": [
       "450"
      ]
     },
     "execution_count": 20,
     "metadata": {},
     "output_type": "execute_result"
    }
   ],
   "source": [
    "len(chr_string[start:end])"
   ]
  },
  {
   "cell_type": "code",
   "execution_count": 25,
   "id": "b32fe3da",
   "metadata": {},
   "outputs": [
    {
     "data": {
      "text/plain": [
       "'TAACCCTAACCCTAACCCTAACCCTAACCCTAACCCTAACCCTAACCCTAACCCTAACCCTAACCCTAACCCTAACCCTAACCCTAACCCTAACCCTAACCCTAACCCAACCCTAACCCTAACCCTAACCCTAACCCTAACCCTAACCCCTAACCCTAACCCTAACCCTAACCCTAACCTAACCCTAACCCTAACCCTAACCCTAACCCTAACCCTAACCCTAACCCTAACCCCTAACCCTAACCCTAAACCCTAAACCCTAACCCTAACCCTAACCCTAACCCTAACCCCAACCCCAACCCCAACCCCAACCCCAACCCCAACCCTAACCCCTAACCCTAACCCTAACCCTACCCTAACCCTAACCCTAACCCTAACCCTAACCCTAACCCCTAACCCCTAACCCTAACCCTAACCCTAACCCTAACCCTAACCCTAACCCCTAACCCT'"
      ]
     },
     "execution_count": 25,
     "metadata": {},
     "output_type": "execute_result"
    }
   ],
   "source": [
    "chr_string[start:end].upper()"
   ]
  },
  {
   "cell_type": "code",
   "execution_count": 23,
   "id": "7e914c6d",
   "metadata": {
    "scrolled": false
   },
   "outputs": [
    {
     "data": {
      "text/plain": [
       "'GTATCCCCTACCCAGGGGTGAGGGTGAGGGTGTAGGGTTGGGTTAGGTTAGGGTTAGGGTGAGGGTGAGGGGTTAGTGAGGGTGAGGTGGGGGGTTGGAAGGGTGAGGGTGAGGGTTTAGGGTGCAGGGAAGGGTGAGGGTAGGGTTAGGGTGAGGTGAGTTGAGGGTTAGGGTGACGGGTGAGGGTTAGGGTGAGGGTTAGGGTTTAGGGTTTATGGGTTAGGGTTAGGTGAGGGTCGAGGGTGAGGGTTTAGGAGTGAGGGTGGAGGGTTTAAGGGTGAGGGTGAGGGTAGGGTGAGGGTTACGGGTTAGGGTGAGGGTTAGGGTTAAGGGTTAGGGTTTAGGGTGAGGGTGAGGGTTAGGGGTGAGGGTGAGGGTTAAGGGTGAGGGTTAGGGTTAGGGGTTAGGGTTAGGTTAGGGTTAGGGTTAGGGTTAGGGTTAGGGTTGAGGGTTAGGGTTAGGGTTTGGGTTTAGGGTGAGGGTTGAGGGTTAGGGAGGGTTGAGGTGAGGGTAAGGGTGAGGGTTAGGGTCTAGTGGTGAGGGTTAGGGTTAGGGTTAGGGTTTTAGGGTTAGGGTTTAGGGTTAGGGTGTAGGGGTTACGGGTGAGGGTTTTAGGGTTGAGGGTGAGGGGTTAGGGTGAGGGGAAGGGTTAGGGTGAGGGTTAGTTTAGGGTTAGGGTAGGGTTAGGTTAGGTTAGGGTAGGGTAGGGGTGGAGGGTTAGGGTTTAGGGTTAGGGTGAGGTTAGGGTTAGGGTTAGGGTTAGGGTTAGGGTTTAGGGTGAGGTTAAGGGTTAGGGTTAGGGTGAGGGGTTTAAGGGTTAGGGTTTTAGGGTTAGGGTTAGGGTTAGGGTTACGGGTTAGGTTTAGGGTGAGGGTTTAGGGTTAGGGTTAGGGTTAGGGTTTAGGGTTAGGTGTAGGGTTAACGGGTTAGCGGTTAAGGGTTAGGGGTTAGGGTTAGGGTTAGGGTTATAGGGTTAGGGTTAGGGTTAGGGTTTAGGGTTAGGTTAGGGTTATGGTTTAGGGTTTTAGGGTTAGGGTTAGGGTTAGGGTAGGGTTGGTTAGGGTTAGGGTTAGGGTTAGGGTTAGGTTAGGGTTTAGGGTTAGGGTTAGGGTTTAGGTTAGGGTTAGGGTTAGGGTTAGGGTTAGGGTTAGGGTTAGGTTAGGGTAGGGTTAGGGTAGGGTTAAGGGTTAGGGTAGGGTTAGGGTTAGGGTTAGGGTTGGGTTAGGGTTTAGGGTTAGGGTTAGGGTTAGGTTAGGGTTAGGGTTAGGGTTAAGGGTTAGGGTTAGGGTTAGGGTTAGGGTTAGGGTTAGGGTTTAGGGTAGGGTTACTGGGTTACGGGTTAGGGTTAGCGGTTAGGGTTAGGGTTAGGGTTAGGGTTAGGGTTAGGGTTAGGGTTAGGGTTAGGGTTTAGGGTTAGGGTAGGGTTAGGGTTAGGGTTTAGGGTTAGGGTTAGGGGTTAGGGTTAGGGTTAGGGTTAGGGTAGGGTTAGGGTTAGGGGTTAGGGTTAGGCGTTAGGCGTTACGGGTTAGGGTTAAGGGTATAGGGTTAGGGTAGGGTTTAGGGTTAGGGTTAGGGTAGGTTATGGTTAGGGTTTAGGGTTAGGGTTAGGGTTAGGGTTAGGGTTAGGGTTAGGGTTAGGGTTAGGGTTTAGGGTTAGGCGTTAAGGGTTAGGGTTAGGGTTAGGGTTAGGGTAGGGTTTGGGTTAGGGTTAGGGTTAGGGTTA'"
      ]
     },
     "execution_count": 23,
     "metadata": {},
     "output_type": "execute_result"
    }
   ],
   "source": [
    "r.get_forward_sequence()"
   ]
  },
  {
   "cell_type": "code",
   "execution_count": 35,
   "id": "2b798fd0",
   "metadata": {},
   "outputs": [
    {
     "data": {
      "text/plain": [
       "['__class__',\n",
       " '__copy__',\n",
       " '__deepcopy__',\n",
       " '__delattr__',\n",
       " '__dir__',\n",
       " '__doc__',\n",
       " '__eq__',\n",
       " '__format__',\n",
       " '__ge__',\n",
       " '__getattribute__',\n",
       " '__gt__',\n",
       " '__hash__',\n",
       " '__init__',\n",
       " '__init_subclass__',\n",
       " '__le__',\n",
       " '__lt__',\n",
       " '__ne__',\n",
       " '__new__',\n",
       " '__pyx_vtable__',\n",
       " '__reduce__',\n",
       " '__reduce_ex__',\n",
       " '__repr__',\n",
       " '__setattr__',\n",
       " '__setstate__',\n",
       " '__sizeof__',\n",
       " '__str__',\n",
       " '__subclasshook__',\n",
       " 'aend',\n",
       " 'alen',\n",
       " 'aligned_pairs',\n",
       " 'bin',\n",
       " 'blocks',\n",
       " 'cigar',\n",
       " 'cigarstring',\n",
       " 'cigartuples',\n",
       " 'compare',\n",
       " 'flag',\n",
       " 'from_dict',\n",
       " 'fromstring',\n",
       " 'get_aligned_pairs',\n",
       " 'get_blocks',\n",
       " 'get_cigar_stats',\n",
       " 'get_forward_qualities',\n",
       " 'get_forward_sequence',\n",
       " 'get_overlap',\n",
       " 'get_reference_positions',\n",
       " 'get_reference_sequence',\n",
       " 'get_tag',\n",
       " 'get_tags',\n",
       " 'has_tag',\n",
       " 'header',\n",
       " 'infer_query_length',\n",
       " 'infer_read_length',\n",
       " 'inferred_length',\n",
       " 'is_duplicate',\n",
       " 'is_paired',\n",
       " 'is_proper_pair',\n",
       " 'is_qcfail',\n",
       " 'is_read1',\n",
       " 'is_read2',\n",
       " 'is_reverse',\n",
       " 'is_secondary',\n",
       " 'is_supplementary',\n",
       " 'is_unmapped',\n",
       " 'isize',\n",
       " 'mapping_quality',\n",
       " 'mapq',\n",
       " 'mate_is_reverse',\n",
       " 'mate_is_unmapped',\n",
       " 'mpos',\n",
       " 'mrnm',\n",
       " 'next_reference_id',\n",
       " 'next_reference_name',\n",
       " 'next_reference_start',\n",
       " 'opt',\n",
       " 'overlap',\n",
       " 'pnext',\n",
       " 'pos',\n",
       " 'positions',\n",
       " 'qend',\n",
       " 'qlen',\n",
       " 'qname',\n",
       " 'qqual',\n",
       " 'qstart',\n",
       " 'qual',\n",
       " 'query',\n",
       " 'query_alignment_end',\n",
       " 'query_alignment_length',\n",
       " 'query_alignment_qualities',\n",
       " 'query_alignment_sequence',\n",
       " 'query_alignment_start',\n",
       " 'query_length',\n",
       " 'query_name',\n",
       " 'query_qualities',\n",
       " 'query_sequence',\n",
       " 'reference_end',\n",
       " 'reference_id',\n",
       " 'reference_length',\n",
       " 'reference_name',\n",
       " 'reference_start',\n",
       " 'rlen',\n",
       " 'rname',\n",
       " 'rnext',\n",
       " 'seq',\n",
       " 'setTag',\n",
       " 'set_tag',\n",
       " 'set_tags',\n",
       " 'tags',\n",
       " 'template_length',\n",
       " 'tid',\n",
       " 'tlen',\n",
       " 'to_dict',\n",
       " 'to_string',\n",
       " 'tostring']"
      ]
     },
     "execution_count": 35,
     "metadata": {},
     "output_type": "execute_result"
    }
   ],
   "source": [
    "dir(r)"
   ]
  },
  {
   "cell_type": "code",
   "execution_count": 30,
   "id": "47858589",
   "metadata": {},
   "outputs": [
    {
     "data": {
      "text/plain": [
       "[10000,\n",
       " 10001,\n",
       " 10002,\n",
       " 10003,\n",
       " 10004,\n",
       " 10005,\n",
       " 10006,\n",
       " 10007,\n",
       " 10008,\n",
       " 10009,\n",
       " 10010,\n",
       " 10011,\n",
       " 10012,\n",
       " 10013,\n",
       " 10014,\n",
       " 10015,\n",
       " 10016,\n",
       " 10017,\n",
       " 10018,\n",
       " 10019,\n",
       " 10020,\n",
       " 10021,\n",
       " 10022,\n",
       " 10023,\n",
       " None,\n",
       " None,\n",
       " None,\n",
       " None,\n",
       " None,\n",
       " None,\n",
       " 10024,\n",
       " 10025,\n",
       " None,\n",
       " None,\n",
       " None,\n",
       " None,\n",
       " 10026,\n",
       " None,\n",
       " 10027,\n",
       " 10028,\n",
       " 10029,\n",
       " 10030,\n",
       " 10031,\n",
       " 10032,\n",
       " 10033,\n",
       " 10034,\n",
       " 10035,\n",
       " 10036,\n",
       " 10037,\n",
       " 10038,\n",
       " 10039,\n",
       " 10040,\n",
       " 10041,\n",
       " 10042,\n",
       " 10043,\n",
       " 10044,\n",
       " 10045,\n",
       " 10046,\n",
       " 10047,\n",
       " 10048,\n",
       " None,\n",
       " 10049,\n",
       " 10050,\n",
       " 10051,\n",
       " None,\n",
       " 10052,\n",
       " 10053,\n",
       " 10054,\n",
       " 10055,\n",
       " 10056,\n",
       " 10057,\n",
       " 10058,\n",
       " 10059,\n",
       " 10060,\n",
       " 10061,\n",
       " 10062,\n",
       " None,\n",
       " 10063,\n",
       " 10064,\n",
       " 10065,\n",
       " 10066,\n",
       " 10067,\n",
       " 10068,\n",
       " 10069,\n",
       " 10070,\n",
       " 10071,\n",
       " 10072,\n",
       " 10073,\n",
       " 10074,\n",
       " 10075,\n",
       " 10076,\n",
       " 10077,\n",
       " 10078,\n",
       " 10079,\n",
       " 10080,\n",
       " 10081,\n",
       " 10082,\n",
       " 10083,\n",
       " 10084,\n",
       " 10085,\n",
       " 10086,\n",
       " 10087,\n",
       " 10088,\n",
       " 10089,\n",
       " 10090,\n",
       " 10091,\n",
       " 10092,\n",
       " 10093,\n",
       " 10094,\n",
       " 10095,\n",
       " 10096,\n",
       " 10097,\n",
       " 10098,\n",
       " 10099,\n",
       " 10100,\n",
       " 10101,\n",
       " 10102,\n",
       " 10103,\n",
       " 10104,\n",
       " 10105,\n",
       " 10106,\n",
       " 10107,\n",
       " None,\n",
       " 10108,\n",
       " 10109,\n",
       " 10110,\n",
       " 10111,\n",
       " 10112,\n",
       " 10113,\n",
       " 10114,\n",
       " 10115,\n",
       " None,\n",
       " 10116,\n",
       " 10117,\n",
       " 10118,\n",
       " 10119,\n",
       " 10120,\n",
       " 10121,\n",
       " 10122,\n",
       " 10123,\n",
       " None,\n",
       " None,\n",
       " None,\n",
       " None,\n",
       " 10124,\n",
       " None,\n",
       " None,\n",
       " None,\n",
       " None,\n",
       " None,\n",
       " None,\n",
       " 10125,\n",
       " 10126,\n",
       " 10127,\n",
       " 10128,\n",
       " 10129,\n",
       " 10130,\n",
       " 10131,\n",
       " 10132,\n",
       " 10133,\n",
       " 10134,\n",
       " 10135,\n",
       " 10136,\n",
       " 10137,\n",
       " 10138,\n",
       " 10139,\n",
       " None,\n",
       " 10140,\n",
       " 10141,\n",
       " 10142,\n",
       " None,\n",
       " None,\n",
       " None,\n",
       " None,\n",
       " None,\n",
       " None,\n",
       " None,\n",
       " None,\n",
       " None,\n",
       " None,\n",
       " None,\n",
       " None,\n",
       " None,\n",
       " None,\n",
       " None,\n",
       " None,\n",
       " None,\n",
       " None,\n",
       " None,\n",
       " None,\n",
       " None,\n",
       " None,\n",
       " None,\n",
       " None,\n",
       " None,\n",
       " None,\n",
       " None,\n",
       " None,\n",
       " None,\n",
       " None,\n",
       " None,\n",
       " None,\n",
       " None,\n",
       " None,\n",
       " None,\n",
       " None,\n",
       " None,\n",
       " None,\n",
       " None,\n",
       " None,\n",
       " None,\n",
       " None,\n",
       " None,\n",
       " None,\n",
       " None,\n",
       " None,\n",
       " None,\n",
       " None,\n",
       " None,\n",
       " None,\n",
       " None,\n",
       " None,\n",
       " None,\n",
       " None,\n",
       " None,\n",
       " None,\n",
       " None,\n",
       " None,\n",
       " None,\n",
       " None,\n",
       " None,\n",
       " None,\n",
       " None,\n",
       " None,\n",
       " None,\n",
       " None,\n",
       " None,\n",
       " None,\n",
       " None,\n",
       " None,\n",
       " None,\n",
       " 10143,\n",
       " 10144,\n",
       " None,\n",
       " None,\n",
       " None,\n",
       " None,\n",
       " 10145,\n",
       " None,\n",
       " None,\n",
       " None,\n",
       " 10146,\n",
       " None,\n",
       " None,\n",
       " None,\n",
       " 10147,\n",
       " 10148,\n",
       " 10149,\n",
       " 10150,\n",
       " 10151,\n",
       " 10152,\n",
       " 10153,\n",
       " 10154,\n",
       " 10155,\n",
       " 10156,\n",
       " 10157,\n",
       " 10158,\n",
       " 10159,\n",
       " 10160,\n",
       " 10161,\n",
       " None,\n",
       " 10162,\n",
       " 10163,\n",
       " 10164,\n",
       " 10165,\n",
       " 10166,\n",
       " 10167,\n",
       " 10168,\n",
       " 10169,\n",
       " 10170,\n",
       " 10171,\n",
       " 10172,\n",
       " 10173,\n",
       " 10174,\n",
       " 10175,\n",
       " 10176,\n",
       " None,\n",
       " 10177,\n",
       " 10178,\n",
       " None,\n",
       " 10179,\n",
       " 10180,\n",
       " 10181,\n",
       " 10182,\n",
       " 10183,\n",
       " 10184,\n",
       " 10185,\n",
       " None,\n",
       " None,\n",
       " None,\n",
       " None,\n",
       " None,\n",
       " None,\n",
       " None,\n",
       " None,\n",
       " None,\n",
       " None,\n",
       " None,\n",
       " None,\n",
       " None,\n",
       " None,\n",
       " None,\n",
       " None,\n",
       " None,\n",
       " None,\n",
       " None,\n",
       " None,\n",
       " None,\n",
       " None,\n",
       " None,\n",
       " None,\n",
       " None,\n",
       " 10186,\n",
       " None,\n",
       " None,\n",
       " None,\n",
       " None,\n",
       " 10187,\n",
       " None,\n",
       " 10188,\n",
       " 10189,\n",
       " 10190,\n",
       " 10191,\n",
       " 10192,\n",
       " 10193,\n",
       " 10194,\n",
       " 10195,\n",
       " 10196,\n",
       " 10197,\n",
       " 10198,\n",
       " 10199,\n",
       " 10200,\n",
       " 10201,\n",
       " 10202,\n",
       " 10203,\n",
       " 10204,\n",
       " 10205,\n",
       " 10206,\n",
       " 10207,\n",
       " 10208,\n",
       " 10209,\n",
       " 10210,\n",
       " 10211,\n",
       " 10212,\n",
       " 10213,\n",
       " 10214,\n",
       " 10215,\n",
       " 10216,\n",
       " 10217,\n",
       " 10218,\n",
       " 10219,\n",
       " 10220,\n",
       " 10221,\n",
       " 10222,\n",
       " 10223,\n",
       " 10224,\n",
       " 10225,\n",
       " 10226,\n",
       " 10227,\n",
       " 10228,\n",
       " 10229,\n",
       " 10230,\n",
       " 10231,\n",
       " None,\n",
       " 10232,\n",
       " None,\n",
       " None,\n",
       " None,\n",
       " 10233,\n",
       " None,\n",
       " None,\n",
       " 10234,\n",
       " 10235,\n",
       " 10236,\n",
       " 10237,\n",
       " 10238,\n",
       " 10239,\n",
       " None,\n",
       " 10240,\n",
       " 10241,\n",
       " 10242,\n",
       " None,\n",
       " None,\n",
       " None,\n",
       " None,\n",
       " None,\n",
       " None,\n",
       " None,\n",
       " None,\n",
       " None,\n",
       " None,\n",
       " None,\n",
       " None,\n",
       " None,\n",
       " None,\n",
       " None,\n",
       " None,\n",
       " None,\n",
       " None,\n",
       " None,\n",
       " None,\n",
       " None,\n",
       " None,\n",
       " None,\n",
       " None,\n",
       " None,\n",
       " None,\n",
       " None,\n",
       " None,\n",
       " None,\n",
       " None,\n",
       " None,\n",
       " None,\n",
       " 10243,\n",
       " 10244,\n",
       " 10245,\n",
       " 10246,\n",
       " 10247,\n",
       " 10248,\n",
       " None,\n",
       " None,\n",
       " None,\n",
       " None,\n",
       " 10249,\n",
       " None,\n",
       " 10250,\n",
       " 10251,\n",
       " 10252,\n",
       " 10253,\n",
       " 10254,\n",
       " 10255,\n",
       " None,\n",
       " None,\n",
       " None,\n",
       " None,\n",
       " 10256,\n",
       " None,\n",
       " 10257,\n",
       " 10258,\n",
       " 10259,\n",
       " 10260,\n",
       " None,\n",
       " 10261,\n",
       " 10262,\n",
       " 10263,\n",
       " 10264,\n",
       " 10265,\n",
       " 10266,\n",
       " 10267,\n",
       " 10268,\n",
       " 10269,\n",
       " 10270,\n",
       " 10271,\n",
       " 10272,\n",
       " 10273,\n",
       " 10274,\n",
       " 10275,\n",
       " 10276,\n",
       " 10277,\n",
       " 10278,\n",
       " 10279,\n",
       " 10280,\n",
       " 10281,\n",
       " 10282,\n",
       " None,\n",
       " None,\n",
       " None,\n",
       " 10283,\n",
       " None,\n",
       " None,\n",
       " 10284,\n",
       " 10285,\n",
       " 10286,\n",
       " 10287,\n",
       " 10288,\n",
       " 10289,\n",
       " 10290,\n",
       " 10291,\n",
       " 10292,\n",
       " 10293,\n",
       " 10294,\n",
       " 10295,\n",
       " 10296,\n",
       " 10297,\n",
       " 10309,\n",
       " 10310,\n",
       " 10311,\n",
       " 10312,\n",
       " 10313,\n",
       " 10314,\n",
       " 10315,\n",
       " 10316,\n",
       " 10317,\n",
       " 10318,\n",
       " 10319,\n",
       " 10321,\n",
       " 10322,\n",
       " 10323,\n",
       " 10324,\n",
       " 10325,\n",
       " 10326,\n",
       " 10327,\n",
       " 10328,\n",
       " 10329,\n",
       " 10330,\n",
       " 10331,\n",
       " 10333,\n",
       " 10334,\n",
       " 10335,\n",
       " 10336,\n",
       " 10337,\n",
       " 10338,\n",
       " 10339,\n",
       " 10340,\n",
       " 10341,\n",
       " 10342,\n",
       " 10343,\n",
       " 10344,\n",
       " 10345,\n",
       " 10346,\n",
       " None,\n",
       " None,\n",
       " None,\n",
       " None,\n",
       " 10347,\n",
       " None,\n",
       " 10348,\n",
       " 10349,\n",
       " 10350,\n",
       " 10351,\n",
       " None,\n",
       " 10352,\n",
       " None,\n",
       " 10353,\n",
       " 10354,\n",
       " 10355,\n",
       " 10356,\n",
       " 10357,\n",
       " None,\n",
       " None,\n",
       " None,\n",
       " None,\n",
       " 10358,\n",
       " None,\n",
       " 10359,\n",
       " 10360,\n",
       " 10361,\n",
       " 10362,\n",
       " 10363,\n",
       " None,\n",
       " None,\n",
       " None,\n",
       " None,\n",
       " 10364,\n",
       " None,\n",
       " 10365,\n",
       " 10366,\n",
       " None,\n",
       " None,\n",
       " None,\n",
       " 10367,\n",
       " None,\n",
       " None,\n",
       " 10368,\n",
       " 10369,\n",
       " 10370,\n",
       " 10371,\n",
       " 10372,\n",
       " 10373,\n",
       " 10374,\n",
       " 10375,\n",
       " 10376,\n",
       " 10377,\n",
       " 10378,\n",
       " 10379,\n",
       " 10380,\n",
       " 10381,\n",
       " 10382,\n",
       " 10383,\n",
       " 10384,\n",
       " 10385,\n",
       " 10386,\n",
       " 10387,\n",
       " 10388,\n",
       " 10389,\n",
       " 10390,\n",
       " 10391,\n",
       " None,\n",
       " None,\n",
       " None,\n",
       " 10392,\n",
       " None,\n",
       " None,\n",
       " 10393,\n",
       " 10394,\n",
       " 10395,\n",
       " 10396,\n",
       " 10397,\n",
       " None,\n",
       " None,\n",
       " None,\n",
       " None,\n",
       " 10398,\n",
       " 10399,\n",
       " None,\n",
       " 10400,\n",
       " 10401,\n",
       " 10402,\n",
       " 10403,\n",
       " 10404,\n",
       " None,\n",
       " None,\n",
       " None,\n",
       " None,\n",
       " None,\n",
       " None,\n",
       " None,\n",
       " None,\n",
       " None,\n",
       " None,\n",
       " None,\n",
       " None,\n",
       " None,\n",
       " None,\n",
       " None,\n",
       " None,\n",
       " None,\n",
       " None,\n",
       " None,\n",
       " None,\n",
       " None,\n",
       " None,\n",
       " None,\n",
       " None,\n",
       " None,\n",
       " None,\n",
       " None,\n",
       " None,\n",
       " 10405,\n",
       " None,\n",
       " None,\n",
       " 10406,\n",
       " 10407,\n",
       " 10408,\n",
       " 10409,\n",
       " 10410,\n",
       " 10411,\n",
       " 10412,\n",
       " 10413,\n",
       " 10414,\n",
       " 10415,\n",
       " 10416,\n",
       " 10417,\n",
       " 10418,\n",
       " 10419,\n",
       " 10420,\n",
       " 10421,\n",
       " 10422,\n",
       " None,\n",
       " None,\n",
       " 10423,\n",
       " None,\n",
       " None,\n",
       " 10424,\n",
       " 10425,\n",
       " None,\n",
       " None,\n",
       " None,\n",
       " None,\n",
       " 10426,\n",
       " None,\n",
       " 10427,\n",
       " 10428,\n",
       " 10429,\n",
       " 10430,\n",
       " 10431,\n",
       " 10432,\n",
       " 10433,\n",
       " 10434,\n",
       " 10435,\n",
       " 10436,\n",
       " None,\n",
       " None,\n",
       " None,\n",
       " None,\n",
       " None,\n",
       " None,\n",
       " None,\n",
       " None,\n",
       " None,\n",
       " None,\n",
       " None,\n",
       " None,\n",
       " None,\n",
       " None,\n",
       " None,\n",
       " None,\n",
       " None,\n",
       " None,\n",
       " None,\n",
       " None,\n",
       " None,\n",
       " None,\n",
       " None,\n",
       " None,\n",
       " None,\n",
       " None,\n",
       " None,\n",
       " None,\n",
       " None,\n",
       " None,\n",
       " None,\n",
       " None,\n",
       " None,\n",
       " None,\n",
       " None,\n",
       " None,\n",
       " None,\n",
       " None,\n",
       " None,\n",
       " None,\n",
       " None,\n",
       " None,\n",
       " None,\n",
       " None,\n",
       " None,\n",
       " None,\n",
       " None,\n",
       " None,\n",
       " None,\n",
       " None,\n",
       " None,\n",
       " None,\n",
       " None,\n",
       " None,\n",
       " None,\n",
       " None,\n",
       " None,\n",
       " 10437,\n",
       " 10438,\n",
       " 10439,\n",
       " 10440,\n",
       " 10441,\n",
       " None,\n",
       " None,\n",
       " None,\n",
       " None,\n",
       " None,\n",
       " 10442,\n",
       " None,\n",
       " None,\n",
       " 10443,\n",
       " 10444,\n",
       " None,\n",
       " None,\n",
       " None,\n",
       " None,\n",
       " None,\n",
       " 10445,\n",
       " None,\n",
       " 10446,\n",
       " 10447,\n",
       " 10448,\n",
       " 10449,\n",
       " None,\n",
       " None,\n",
       " None,\n",
       " None,\n",
       " None,\n",
       " None,\n",
       " None,\n",
       " None,\n",
       " None,\n",
       " None,\n",
       " None,\n",
       " None,\n",
       " None,\n",
       " None,\n",
       " None,\n",
       " None,\n",
       " None,\n",
       " None,\n",
       " None,\n",
       " None,\n",
       " None,\n",
       " None,\n",
       " None,\n",
       " None,\n",
       " None,\n",
       " None,\n",
       " None,\n",
       " None,\n",
       " None,\n",
       " None,\n",
       " None,\n",
       " None,\n",
       " None,\n",
       " None,\n",
       " None,\n",
       " None,\n",
       " None,\n",
       " None,\n",
       " None,\n",
       " None,\n",
       " None,\n",
       " None,\n",
       " None,\n",
       " None,\n",
       " None,\n",
       " None,\n",
       " None,\n",
       " None,\n",
       " None,\n",
       " None,\n",
       " None,\n",
       " None,\n",
       " None,\n",
       " None,\n",
       " None,\n",
       " None,\n",
       " None,\n",
       " None,\n",
       " None,\n",
       " None,\n",
       " None,\n",
       " None,\n",
       " None,\n",
       " None,\n",
       " None,\n",
       " None,\n",
       " None,\n",
       " None,\n",
       " None,\n",
       " None,\n",
       " None,\n",
       " None,\n",
       " None,\n",
       " None,\n",
       " None,\n",
       " None,\n",
       " None,\n",
       " None,\n",
       " None,\n",
       " None,\n",
       " None,\n",
       " None,\n",
       " None,\n",
       " None,\n",
       " None,\n",
       " None,\n",
       " None,\n",
       " None,\n",
       " None,\n",
       " None,\n",
       " None,\n",
       " None,\n",
       " None,\n",
       " None,\n",
       " None,\n",
       " None,\n",
       " None,\n",
       " None,\n",
       " None,\n",
       " None,\n",
       " None,\n",
       " None,\n",
       " None,\n",
       " None,\n",
       " None,\n",
       " None,\n",
       " None,\n",
       " None,\n",
       " None,\n",
       " None,\n",
       " None,\n",
       " None,\n",
       " None,\n",
       " None,\n",
       " None,\n",
       " None,\n",
       " None,\n",
       " None,\n",
       " None,\n",
       " None,\n",
       " None,\n",
       " None,\n",
       " None,\n",
       " None,\n",
       " None,\n",
       " None,\n",
       " None,\n",
       " None,\n",
       " None,\n",
       " None,\n",
       " None,\n",
       " None,\n",
       " None,\n",
       " None,\n",
       " None,\n",
       " None,\n",
       " None,\n",
       " None,\n",
       " None,\n",
       " None,\n",
       " None,\n",
       " None,\n",
       " None,\n",
       " None,\n",
       " None,\n",
       " None,\n",
       " None,\n",
       " None,\n",
       " None,\n",
       " None,\n",
       " None,\n",
       " None,\n",
       " None,\n",
       " None,\n",
       " None,\n",
       " None,\n",
       " None,\n",
       " None,\n",
       " None,\n",
       " None,\n",
       " None,\n",
       " None,\n",
       " None,\n",
       " None,\n",
       " None,\n",
       " None,\n",
       " None,\n",
       " None,\n",
       " None,\n",
       " None,\n",
       " None,\n",
       " None,\n",
       " None,\n",
       " None,\n",
       " None,\n",
       " None,\n",
       " None,\n",
       " None,\n",
       " None,\n",
       " None,\n",
       " None,\n",
       " None,\n",
       " None,\n",
       " None,\n",
       " None,\n",
       " None,\n",
       " None,\n",
       " None,\n",
       " None,\n",
       " None,\n",
       " None,\n",
       " None,\n",
       " None,\n",
       " None,\n",
       " None,\n",
       " None,\n",
       " None,\n",
       " None,\n",
       " None,\n",
       " None,\n",
       " None,\n",
       " None,\n",
       " None,\n",
       " None,\n",
       " None,\n",
       " None,\n",
       " None,\n",
       " None,\n",
       " None,\n",
       " None,\n",
       " None,\n",
       " None,\n",
       " None,\n",
       " None,\n",
       " None,\n",
       " None,\n",
       " None,\n",
       " None,\n",
       " None,\n",
       " None,\n",
       " None,\n",
       " None,\n",
       " None,\n",
       " None,\n",
       " None,\n",
       " None,\n",
       " ...]"
      ]
     },
     "execution_count": 30,
     "metadata": {},
     "output_type": "execute_result"
    }
   ],
   "source": [
    "r.get_reference_positions(full_length = True)"
   ]
  },
  {
   "cell_type": "code",
   "execution_count": 22,
   "id": "305bb8df",
   "metadata": {},
   "outputs": [
    {
     "data": {
      "text/plain": [
       "[(0, 24),\n",
       " (1, 6),\n",
       " (0, 2),\n",
       " (1, 4),\n",
       " (0, 1),\n",
       " (1, 1),\n",
       " (0, 22),\n",
       " (1, 1),\n",
       " (0, 3),\n",
       " (1, 1),\n",
       " (0, 11),\n",
       " (1, 1),\n",
       " (0, 45),\n",
       " (1, 1),\n",
       " (0, 8),\n",
       " (1, 1),\n",
       " (0, 8),\n",
       " (1, 4),\n",
       " (0, 1),\n",
       " (1, 6),\n",
       " (0, 15),\n",
       " (1, 1),\n",
       " (0, 3),\n",
       " (1, 71),\n",
       " (0, 2),\n",
       " (1, 4),\n",
       " (0, 1),\n",
       " (1, 3),\n",
       " (0, 1),\n",
       " (1, 3),\n",
       " (0, 15),\n",
       " (1, 1),\n",
       " (0, 15),\n",
       " (1, 1),\n",
       " (0, 2),\n",
       " (1, 1),\n",
       " (0, 7),\n",
       " (1, 25),\n",
       " (0, 1),\n",
       " (1, 4),\n",
       " (0, 1),\n",
       " (1, 1),\n",
       " (0, 44),\n",
       " (1, 1),\n",
       " (0, 1),\n",
       " (1, 3),\n",
       " (0, 1),\n",
       " (1, 2),\n",
       " (0, 6),\n",
       " (1, 1),\n",
       " (0, 3),\n",
       " (1, 32),\n",
       " (0, 6),\n",
       " (1, 4),\n",
       " (0, 1),\n",
       " (1, 1),\n",
       " (0, 6),\n",
       " (1, 4),\n",
       " (0, 1),\n",
       " (1, 1),\n",
       " (0, 4),\n",
       " (1, 1),\n",
       " (0, 22),\n",
       " (1, 3),\n",
       " (0, 1),\n",
       " (1, 2),\n",
       " (0, 14),\n",
       " (2, 11),\n",
       " (0, 11),\n",
       " (2, 1),\n",
       " (0, 11),\n",
       " (2, 1),\n",
       " (0, 14),\n",
       " (1, 4),\n",
       " (0, 1),\n",
       " (1, 1),\n",
       " (0, 4),\n",
       " (1, 1),\n",
       " (0, 1),\n",
       " (1, 1),\n",
       " (0, 5),\n",
       " (1, 4),\n",
       " (0, 1),\n",
       " (1, 1),\n",
       " (0, 5),\n",
       " (1, 4),\n",
       " (0, 1),\n",
       " (1, 1),\n",
       " (0, 2),\n",
       " (1, 3),\n",
       " (0, 1),\n",
       " (1, 2),\n",
       " (0, 24),\n",
       " (1, 3),\n",
       " (0, 1),\n",
       " (1, 2),\n",
       " (0, 5),\n",
       " (1, 4),\n",
       " (0, 2),\n",
       " (1, 1),\n",
       " (0, 5),\n",
       " (1, 28),\n",
       " (0, 1),\n",
       " (1, 2),\n",
       " (0, 17),\n",
       " (1, 2),\n",
       " (0, 1),\n",
       " (1, 2),\n",
       " (0, 2),\n",
       " (1, 4),\n",
       " (0, 1),\n",
       " (1, 1),\n",
       " (0, 10),\n",
       " (1, 57),\n",
       " (0, 5),\n",
       " (1, 5),\n",
       " (0, 1),\n",
       " (1, 2),\n",
       " (0, 2),\n",
       " (1, 5),\n",
       " (0, 1),\n",
       " (1, 1),\n",
       " (0, 4),\n",
       " (4, 949)]"
      ]
     },
     "execution_count": 22,
     "metadata": {},
     "output_type": "execute_result"
    }
   ],
   "source": [
    "r.cigar"
   ]
  },
  {
   "cell_type": "code",
   "execution_count": 34,
   "id": "7dbf4e32",
   "metadata": {},
   "outputs": [
    {
     "data": {
      "text/plain": [
       "True"
      ]
     },
     "execution_count": 34,
     "metadata": {},
     "output_type": "execute_result"
    }
   ],
   "source": [
    "r.is_reverse"
   ]
  },
  {
   "cell_type": "code",
   "execution_count": 46,
   "id": "cda4b3a9",
   "metadata": {},
   "outputs": [],
   "source": [
    "import torch\n",
    "a = [10]\n",
    "b = torch.rand(3)"
   ]
  },
  {
   "cell_type": "code",
   "execution_count": 54,
   "id": "905406b1",
   "metadata": {},
   "outputs": [],
   "source": [
    "a.append(b)"
   ]
  },
  {
   "cell_type": "code",
   "execution_count": 55,
   "id": "0947d1b4",
   "metadata": {},
   "outputs": [
    {
     "data": {
      "text/plain": [
       "[10,\n",
       " 1,\n",
       " tensor([0.2850, 0.9982, 0.5640]),\n",
       " tensor(0.2850),\n",
       " tensor(0.9982),\n",
       " tensor(0.5640)]"
      ]
     },
     "execution_count": 55,
     "metadata": {},
     "output_type": "execute_result"
    }
   ],
   "source": [
    "a"
   ]
  },
  {
   "cell_type": "code",
   "execution_count": 51,
   "id": "b2643926",
   "metadata": {},
   "outputs": [],
   "source": [
    "torch.save(a, \"test.pt\")"
   ]
  },
  {
   "cell_type": "code",
   "execution_count": 52,
   "id": "e21db127",
   "metadata": {},
   "outputs": [],
   "source": [
    "aa = torch.load(\"test.pt\")"
   ]
  },
  {
   "cell_type": "code",
   "execution_count": 53,
   "id": "ee89bb1b",
   "metadata": {},
   "outputs": [
    {
     "data": {
      "text/plain": [
       "[10, 1, tensor([0.2850, 0.9982, 0.5640])]"
      ]
     },
     "execution_count": 53,
     "metadata": {},
     "output_type": "execute_result"
    }
   ],
   "source": [
    "aa"
   ]
  },
  {
   "cell_type": "code",
   "execution_count": null,
   "id": "15163728",
   "metadata": {},
   "outputs": [],
   "source": []
  }
 ],
 "metadata": {
  "kernelspec": {
   "display_name": "Python 3",
   "language": "python",
   "name": "python3"
  },
  "language_info": {
   "codemirror_mode": {
    "name": "ipython",
    "version": 3
   },
   "file_extension": ".py",
   "mimetype": "text/x-python",
   "name": "python",
   "nbconvert_exporter": "python",
   "pygments_lexer": "ipython3",
   "version": "3.6.13"
  }
 },
 "nbformat": 4,
 "nbformat_minor": 5
}
