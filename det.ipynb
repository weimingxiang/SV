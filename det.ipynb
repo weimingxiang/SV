{
 "cells": [
  {
   "cell_type": "code",
   "execution_count": 84,
   "id": "424b5877",
   "metadata": {
    "scrolled": false
   },
   "outputs": [],
   "source": [
    "import torch\n",
    "import torchvision\n",
    "\n",
    "model = torchvision.models.detection.fasterrcnn_resnet50_fpn(pretrained=True).eval()"
   ]
  },
  {
   "cell_type": "code",
   "execution_count": null,
   "id": "07389e4d",
   "metadata": {},
   "outputs": [],
   "source": [
    "print(model)"
   ]
  },
  {
   "cell_type": "code",
   "execution_count": 81,
   "id": "52803fe1",
   "metadata": {},
   "outputs": [],
   "source": [
    "data_dir = \"../datasets/NA12878_PacBio_MtSinai/\"\n",
    "\n",
    "t_positive_img = torch.load(data_dir + 'image/' + \"chr1\" + '/positive_img' + '.pt') # 3"
   ]
  },
  {
   "cell_type": "code",
   "execution_count": 82,
   "id": "6d202753",
   "metadata": {},
   "outputs": [
    {
     "data": {
      "text/plain": [
       "torch.Size([1621, 3, 224, 224])"
      ]
     },
     "execution_count": 82,
     "metadata": {},
     "output_type": "execute_result"
    }
   ],
   "source": [
    "t_positive_img.shape"
   ]
  },
  {
   "cell_type": "code",
   "execution_count": null,
   "id": "54cb9a34",
   "metadata": {},
   "outputs": [],
   "source": [
    "model(t_positive_img[:10]).shape"
   ]
  },
  {
   "cell_type": "code",
   "execution_count": 53,
   "id": "ef8d6d32",
   "metadata": {},
   "outputs": [
    {
     "name": "stdout",
     "output_type": "stream",
     "text": [
      "Type 'Tuple[str, str, str, str, str, str, str, str, str, str, str, str, str, str, str, str, str, str, str, str, str, str, str, str, str, str, str, str, str, str, str, str, str, str, str, str, str, str, str, str, str, str, str, str, str]' cannot be traced. Only Tensors and (possibly nested) Lists, Dicts, and Tuples of Tensors can be traced\n",
      "Error occurs, No graph saved\n"
     ]
    },
    {
     "ename": "RuntimeError",
     "evalue": "Type 'Tuple[str, str, str, str, str, str, str, str, str, str, str, str, str, str, str, str, str, str, str, str, str, str, str, str, str, str, str, str, str, str, str, str, str, str, str, str, str, str, str, str, str, str, str, str, str]' cannot be traced. Only Tensors and (possibly nested) Lists, Dicts, and Tuples of Tensors can be traced",
     "output_type": "error",
     "traceback": [
      "\u001b[0;31m---------------------------------------------------------------------------\u001b[0m",
      "\u001b[0;31mRuntimeError\u001b[0m                              Traceback (most recent call last)",
      "\u001b[0;32m<ipython-input-53-88b51b202a4c>\u001b[0m in \u001b[0;36m<module>\u001b[0;34m\u001b[0m\n\u001b[1;32m      2\u001b[0m \u001b[0;34m\u001b[0m\u001b[0m\n\u001b[1;32m      3\u001b[0m \u001b[0mwriter\u001b[0m \u001b[0;34m=\u001b[0m \u001b[0mSummaryWriter\u001b[0m\u001b[0;34m(\u001b[0m\u001b[0;34m\"logs\"\u001b[0m\u001b[0;34m)\u001b[0m\u001b[0;34m\u001b[0m\u001b[0;34m\u001b[0m\u001b[0m\n\u001b[0;32m----> 4\u001b[0;31m \u001b[0mwriter\u001b[0m\u001b[0;34m.\u001b[0m\u001b[0madd_graph\u001b[0m\u001b[0;34m(\u001b[0m\u001b[0mmodel\u001b[0m\u001b[0;34m,\u001b[0m \u001b[0mimg\u001b[0m\u001b[0;34m)\u001b[0m\u001b[0;34m\u001b[0m\u001b[0;34m\u001b[0m\u001b[0m\n\u001b[0m\u001b[1;32m      5\u001b[0m \u001b[0mwriter\u001b[0m\u001b[0;34m.\u001b[0m\u001b[0mclose\u001b[0m\u001b[0;34m(\u001b[0m\u001b[0;34m)\u001b[0m\u001b[0;34m\u001b[0m\u001b[0;34m\u001b[0m\u001b[0m\n",
      "\u001b[0;32m~/anaconda3/envs/SV/lib/python3.6/site-packages/torch/utils/tensorboard/writer.py\u001b[0m in \u001b[0;36madd_graph\u001b[0;34m(self, model, input_to_model, verbose, use_strict_trace)\u001b[0m\n\u001b[1;32m    734\u001b[0m         \u001b[0;32mif\u001b[0m \u001b[0mhasattr\u001b[0m\u001b[0;34m(\u001b[0m\u001b[0mmodel\u001b[0m\u001b[0;34m,\u001b[0m \u001b[0;34m'forward'\u001b[0m\u001b[0;34m)\u001b[0m\u001b[0;34m:\u001b[0m\u001b[0;34m\u001b[0m\u001b[0;34m\u001b[0m\u001b[0m\n\u001b[1;32m    735\u001b[0m             \u001b[0;31m# A valid PyTorch model should have a 'forward' method\u001b[0m\u001b[0;34m\u001b[0m\u001b[0;34m\u001b[0m\u001b[0;34m\u001b[0m\u001b[0m\n\u001b[0;32m--> 736\u001b[0;31m             \u001b[0mself\u001b[0m\u001b[0;34m.\u001b[0m\u001b[0m_get_file_writer\u001b[0m\u001b[0;34m(\u001b[0m\u001b[0;34m)\u001b[0m\u001b[0;34m.\u001b[0m\u001b[0madd_graph\u001b[0m\u001b[0;34m(\u001b[0m\u001b[0mgraph\u001b[0m\u001b[0;34m(\u001b[0m\u001b[0mmodel\u001b[0m\u001b[0;34m,\u001b[0m \u001b[0minput_to_model\u001b[0m\u001b[0;34m,\u001b[0m \u001b[0mverbose\u001b[0m\u001b[0;34m,\u001b[0m \u001b[0muse_strict_trace\u001b[0m\u001b[0;34m)\u001b[0m\u001b[0;34m)\u001b[0m\u001b[0;34m\u001b[0m\u001b[0;34m\u001b[0m\u001b[0m\n\u001b[0m\u001b[1;32m    737\u001b[0m         \u001b[0;32melse\u001b[0m\u001b[0;34m:\u001b[0m\u001b[0;34m\u001b[0m\u001b[0;34m\u001b[0m\u001b[0m\n\u001b[1;32m    738\u001b[0m             \u001b[0;31m# Caffe2 models do not have the 'forward' method\u001b[0m\u001b[0;34m\u001b[0m\u001b[0;34m\u001b[0m\u001b[0;34m\u001b[0m\u001b[0m\n",
      "\u001b[0;32m~/anaconda3/envs/SV/lib/python3.6/site-packages/torch/utils/tensorboard/_pytorch_graph.py\u001b[0m in \u001b[0;36mgraph\u001b[0;34m(model, args, verbose, use_strict_trace)\u001b[0m\n\u001b[1;32m    293\u001b[0m             \u001b[0mprint\u001b[0m\u001b[0;34m(\u001b[0m\u001b[0me\u001b[0m\u001b[0;34m)\u001b[0m\u001b[0;34m\u001b[0m\u001b[0;34m\u001b[0m\u001b[0m\n\u001b[1;32m    294\u001b[0m             \u001b[0mprint\u001b[0m\u001b[0;34m(\u001b[0m\u001b[0;34m'Error occurs, No graph saved'\u001b[0m\u001b[0;34m)\u001b[0m\u001b[0;34m\u001b[0m\u001b[0;34m\u001b[0m\u001b[0m\n\u001b[0;32m--> 295\u001b[0;31m             \u001b[0;32mraise\u001b[0m \u001b[0me\u001b[0m\u001b[0;34m\u001b[0m\u001b[0;34m\u001b[0m\u001b[0m\n\u001b[0m\u001b[1;32m    296\u001b[0m \u001b[0;34m\u001b[0m\u001b[0m\n\u001b[1;32m    297\u001b[0m     \u001b[0;32mif\u001b[0m \u001b[0mverbose\u001b[0m\u001b[0;34m:\u001b[0m\u001b[0;34m\u001b[0m\u001b[0;34m\u001b[0m\u001b[0m\n",
      "\u001b[0;32m~/anaconda3/envs/SV/lib/python3.6/site-packages/torch/utils/tensorboard/_pytorch_graph.py\u001b[0m in \u001b[0;36mgraph\u001b[0;34m(model, args, verbose, use_strict_trace)\u001b[0m\n\u001b[1;32m    287\u001b[0m     \u001b[0;32mwith\u001b[0m \u001b[0mtorch\u001b[0m\u001b[0;34m.\u001b[0m\u001b[0monnx\u001b[0m\u001b[0;34m.\u001b[0m\u001b[0mselect_model_mode_for_export\u001b[0m\u001b[0;34m(\u001b[0m\u001b[0mmodel\u001b[0m\u001b[0;34m,\u001b[0m \u001b[0mtorch\u001b[0m\u001b[0;34m.\u001b[0m\u001b[0monnx\u001b[0m\u001b[0;34m.\u001b[0m\u001b[0mTrainingMode\u001b[0m\u001b[0;34m.\u001b[0m\u001b[0mEVAL\u001b[0m\u001b[0;34m)\u001b[0m\u001b[0;34m:\u001b[0m  \u001b[0;31m# TODO: move outside of torch.onnx?\u001b[0m\u001b[0;34m\u001b[0m\u001b[0;34m\u001b[0m\u001b[0m\n\u001b[1;32m    288\u001b[0m         \u001b[0;32mtry\u001b[0m\u001b[0;34m:\u001b[0m\u001b[0;34m\u001b[0m\u001b[0;34m\u001b[0m\u001b[0m\n\u001b[0;32m--> 289\u001b[0;31m             \u001b[0mtrace\u001b[0m \u001b[0;34m=\u001b[0m \u001b[0mtorch\u001b[0m\u001b[0;34m.\u001b[0m\u001b[0mjit\u001b[0m\u001b[0;34m.\u001b[0m\u001b[0mtrace\u001b[0m\u001b[0;34m(\u001b[0m\u001b[0mmodel\u001b[0m\u001b[0;34m,\u001b[0m \u001b[0margs\u001b[0m\u001b[0;34m,\u001b[0m \u001b[0mstrict\u001b[0m\u001b[0;34m=\u001b[0m\u001b[0muse_strict_trace\u001b[0m\u001b[0;34m)\u001b[0m\u001b[0;34m\u001b[0m\u001b[0;34m\u001b[0m\u001b[0m\n\u001b[0m\u001b[1;32m    290\u001b[0m             \u001b[0mgraph\u001b[0m \u001b[0;34m=\u001b[0m \u001b[0mtrace\u001b[0m\u001b[0;34m.\u001b[0m\u001b[0mgraph\u001b[0m\u001b[0;34m\u001b[0m\u001b[0;34m\u001b[0m\u001b[0m\n\u001b[1;32m    291\u001b[0m             \u001b[0mtorch\u001b[0m\u001b[0;34m.\u001b[0m\u001b[0m_C\u001b[0m\u001b[0;34m.\u001b[0m\u001b[0m_jit_pass_inline\u001b[0m\u001b[0;34m(\u001b[0m\u001b[0mgraph\u001b[0m\u001b[0;34m)\u001b[0m\u001b[0;34m\u001b[0m\u001b[0;34m\u001b[0m\u001b[0m\n",
      "\u001b[0;32m~/anaconda3/envs/SV/lib/python3.6/site-packages/torch/jit/_trace.py\u001b[0m in \u001b[0;36mtrace\u001b[0;34m(func, example_inputs, optimize, check_trace, check_inputs, check_tolerance, strict, _force_outplace, _module_class, _compilation_unit)\u001b[0m\n\u001b[1;32m    748\u001b[0m             \u001b[0mstrict\u001b[0m\u001b[0;34m,\u001b[0m\u001b[0;34m\u001b[0m\u001b[0;34m\u001b[0m\u001b[0m\n\u001b[1;32m    749\u001b[0m             \u001b[0m_force_outplace\u001b[0m\u001b[0;34m,\u001b[0m\u001b[0;34m\u001b[0m\u001b[0;34m\u001b[0m\u001b[0m\n\u001b[0;32m--> 750\u001b[0;31m             \u001b[0m_module_class\u001b[0m\u001b[0;34m,\u001b[0m\u001b[0;34m\u001b[0m\u001b[0;34m\u001b[0m\u001b[0m\n\u001b[0m\u001b[1;32m    751\u001b[0m         )\n\u001b[1;32m    752\u001b[0m \u001b[0;34m\u001b[0m\u001b[0m\n",
      "\u001b[0;32m~/anaconda3/envs/SV/lib/python3.6/site-packages/torch/jit/_trace.py\u001b[0m in \u001b[0;36mtrace_module\u001b[0;34m(mod, inputs, optimize, check_trace, check_inputs, check_tolerance, strict, _force_outplace, _module_class, _compilation_unit)\u001b[0m\n\u001b[1;32m    963\u001b[0m                 \u001b[0mstrict\u001b[0m\u001b[0;34m,\u001b[0m\u001b[0;34m\u001b[0m\u001b[0;34m\u001b[0m\u001b[0m\n\u001b[1;32m    964\u001b[0m                 \u001b[0m_force_outplace\u001b[0m\u001b[0;34m,\u001b[0m\u001b[0;34m\u001b[0m\u001b[0;34m\u001b[0m\u001b[0m\n\u001b[0;32m--> 965\u001b[0;31m                 \u001b[0margument_names\u001b[0m\u001b[0;34m,\u001b[0m\u001b[0;34m\u001b[0m\u001b[0;34m\u001b[0m\u001b[0m\n\u001b[0m\u001b[1;32m    966\u001b[0m             )\n\u001b[1;32m    967\u001b[0m             \u001b[0mcheck_trace_method\u001b[0m \u001b[0;34m=\u001b[0m \u001b[0mmodule\u001b[0m\u001b[0;34m.\u001b[0m\u001b[0m_c\u001b[0m\u001b[0;34m.\u001b[0m\u001b[0m_get_method\u001b[0m\u001b[0;34m(\u001b[0m\u001b[0mmethod_name\u001b[0m\u001b[0;34m)\u001b[0m\u001b[0;34m\u001b[0m\u001b[0;34m\u001b[0m\u001b[0m\n",
      "\u001b[0;31mRuntimeError\u001b[0m: Type 'Tuple[str, str, str, str, str, str, str, str, str, str, str, str, str, str, str, str, str, str, str, str, str, str, str, str, str, str, str, str, str, str, str, str, str, str, str, str, str, str, str, str, str, str, str, str, str]' cannot be traced. Only Tensors and (possibly nested) Lists, Dicts, and Tuples of Tensors can be traced"
     ]
    }
   ],
   "source": [
    "from torch.utils.tensorboard import SummaryWriter\n",
    "\n",
    "writer = SummaryWriter(\"logs\")\n",
    "writer.add_graph(model, img)\n",
    "writer.close()"
   ]
  },
  {
   "cell_type": "code",
   "execution_count": 67,
   "id": "a159f39f",
   "metadata": {},
   "outputs": [],
   "source": [
    "import torch\n",
    "from PIL import Image\n",
    "import matplotlib.pyplot as plt\n",
    "import torchvision\n",
    "loader = torchvision.transforms.Compose([torchvision.transforms.ToTensor()])\n",
    "img = '/home/xwm/DeepSVFilter/code/yolov5/zidane.jpg'\n",
    "def image_loader(image_name):\n",
    "   image = Image.open(image_name).convert('RGB')\n",
    "   image = loader(image).unsqueeze(0)\n",
    "   return image.to(torch.float)"
   ]
  },
  {
   "cell_type": "code",
   "execution_count": 72,
   "id": "b71060e2",
   "metadata": {},
   "outputs": [
    {
     "data": {
      "text/plain": [
       "torch.Size([1, 3, 720, 1280])"
      ]
     },
     "execution_count": 72,
     "metadata": {},
     "output_type": "execute_result"
    }
   ],
   "source": [
    "image_loader(img).shape"
   ]
  },
  {
   "cell_type": "code",
   "execution_count": 78,
   "id": "143b435b",
   "metadata": {
    "scrolled": true
   },
   "outputs": [
    {
     "ename": "ValueError",
     "evalue": "axes don't match array",
     "output_type": "error",
     "traceback": [
      "\u001b[0;31m---------------------------------------------------------------------------\u001b[0m",
      "\u001b[0;31mValueError\u001b[0m                                Traceback (most recent call last)",
      "\u001b[0;32m<ipython-input-78-25b68be7b2fb>\u001b[0m in \u001b[0;36m<module>\u001b[0;34m\u001b[0m\n\u001b[0;32m----> 1\u001b[0;31m \u001b[0mresults\u001b[0m \u001b[0;34m=\u001b[0m \u001b[0mmodel\u001b[0m\u001b[0;34m(\u001b[0m\u001b[0mimage_loader\u001b[0m\u001b[0;34m(\u001b[0m\u001b[0mimg\u001b[0m\u001b[0;34m)\u001b[0m\u001b[0;34m[\u001b[0m\u001b[0;34m:\u001b[0m\u001b[0;34m,\u001b[0m \u001b[0;34m:\u001b[0m\u001b[0;34m,\u001b[0m \u001b[0;34m:\u001b[0m\u001b[0;36m224\u001b[0m\u001b[0;34m,\u001b[0m \u001b[0;34m:\u001b[0m\u001b[0;36m224\u001b[0m\u001b[0;34m]\u001b[0m\u001b[0;34m.\u001b[0m\u001b[0mnumpy\u001b[0m\u001b[0;34m(\u001b[0m\u001b[0;34m)\u001b[0m\u001b[0;34m)\u001b[0m\u001b[0;34m\u001b[0m\u001b[0;34m\u001b[0m\u001b[0m\n\u001b[0m",
      "\u001b[0;32m~/anaconda3/envs/SV/lib/python3.6/site-packages/torch/nn/modules/module.py\u001b[0m in \u001b[0;36m_call_impl\u001b[0;34m(self, *input, **kwargs)\u001b[0m\n\u001b[1;32m   1100\u001b[0m         if not (self._backward_hooks or self._forward_hooks or self._forward_pre_hooks or _global_backward_hooks\n\u001b[1;32m   1101\u001b[0m                 or _global_forward_hooks or _global_forward_pre_hooks):\n\u001b[0;32m-> 1102\u001b[0;31m             \u001b[0;32mreturn\u001b[0m \u001b[0mforward_call\u001b[0m\u001b[0;34m(\u001b[0m\u001b[0;34m*\u001b[0m\u001b[0minput\u001b[0m\u001b[0;34m,\u001b[0m \u001b[0;34m**\u001b[0m\u001b[0mkwargs\u001b[0m\u001b[0;34m)\u001b[0m\u001b[0;34m\u001b[0m\u001b[0;34m\u001b[0m\u001b[0m\n\u001b[0m\u001b[1;32m   1103\u001b[0m         \u001b[0;31m# Do not call functions when jit is used\u001b[0m\u001b[0;34m\u001b[0m\u001b[0;34m\u001b[0m\u001b[0;34m\u001b[0m\u001b[0m\n\u001b[1;32m   1104\u001b[0m         \u001b[0mfull_backward_hooks\u001b[0m\u001b[0;34m,\u001b[0m \u001b[0mnon_full_backward_hooks\u001b[0m \u001b[0;34m=\u001b[0m \u001b[0;34m[\u001b[0m\u001b[0;34m]\u001b[0m\u001b[0;34m,\u001b[0m \u001b[0;34m[\u001b[0m\u001b[0;34m]\u001b[0m\u001b[0;34m\u001b[0m\u001b[0;34m\u001b[0m\u001b[0m\n",
      "\u001b[0;32m~/anaconda3/envs/SV/lib/python3.6/site-packages/torch/autograd/grad_mode.py\u001b[0m in \u001b[0;36mdecorate_context\u001b[0;34m(*args, **kwargs)\u001b[0m\n\u001b[1;32m     26\u001b[0m         \u001b[0;32mdef\u001b[0m \u001b[0mdecorate_context\u001b[0m\u001b[0;34m(\u001b[0m\u001b[0;34m*\u001b[0m\u001b[0margs\u001b[0m\u001b[0;34m,\u001b[0m \u001b[0;34m**\u001b[0m\u001b[0mkwargs\u001b[0m\u001b[0;34m)\u001b[0m\u001b[0;34m:\u001b[0m\u001b[0;34m\u001b[0m\u001b[0;34m\u001b[0m\u001b[0m\n\u001b[1;32m     27\u001b[0m             \u001b[0;32mwith\u001b[0m \u001b[0mself\u001b[0m\u001b[0;34m.\u001b[0m\u001b[0m__class__\u001b[0m\u001b[0;34m(\u001b[0m\u001b[0;34m)\u001b[0m\u001b[0;34m:\u001b[0m\u001b[0;34m\u001b[0m\u001b[0;34m\u001b[0m\u001b[0m\n\u001b[0;32m---> 28\u001b[0;31m                 \u001b[0;32mreturn\u001b[0m \u001b[0mfunc\u001b[0m\u001b[0;34m(\u001b[0m\u001b[0;34m*\u001b[0m\u001b[0margs\u001b[0m\u001b[0;34m,\u001b[0m \u001b[0;34m**\u001b[0m\u001b[0mkwargs\u001b[0m\u001b[0;34m)\u001b[0m\u001b[0;34m\u001b[0m\u001b[0;34m\u001b[0m\u001b[0m\n\u001b[0m\u001b[1;32m     29\u001b[0m         \u001b[0;32mreturn\u001b[0m \u001b[0mcast\u001b[0m\u001b[0;34m(\u001b[0m\u001b[0mF\u001b[0m\u001b[0;34m,\u001b[0m \u001b[0mdecorate_context\u001b[0m\u001b[0;34m)\u001b[0m\u001b[0;34m\u001b[0m\u001b[0;34m\u001b[0m\u001b[0m\n\u001b[1;32m     30\u001b[0m \u001b[0;34m\u001b[0m\u001b[0m\n",
      "\u001b[0;32m~/.cache/torch/hub/ultralytics_yolov5_master/models/common.py\u001b[0m in \u001b[0;36mforward\u001b[0;34m(self, imgs, size, augment, profile)\u001b[0m\n\u001b[1;32m    568\u001b[0m             \u001b[0mfiles\u001b[0m\u001b[0;34m.\u001b[0m\u001b[0mappend\u001b[0m\u001b[0;34m(\u001b[0m\u001b[0mPath\u001b[0m\u001b[0;34m(\u001b[0m\u001b[0mf\u001b[0m\u001b[0;34m)\u001b[0m\u001b[0;34m.\u001b[0m\u001b[0mwith_suffix\u001b[0m\u001b[0;34m(\u001b[0m\u001b[0;34m'.jpg'\u001b[0m\u001b[0;34m)\u001b[0m\u001b[0;34m.\u001b[0m\u001b[0mname\u001b[0m\u001b[0;34m)\u001b[0m\u001b[0;34m\u001b[0m\u001b[0;34m\u001b[0m\u001b[0m\n\u001b[1;32m    569\u001b[0m             \u001b[0;32mif\u001b[0m \u001b[0mim\u001b[0m\u001b[0;34m.\u001b[0m\u001b[0mshape\u001b[0m\u001b[0;34m[\u001b[0m\u001b[0;36m0\u001b[0m\u001b[0;34m]\u001b[0m \u001b[0;34m<\u001b[0m \u001b[0;36m5\u001b[0m\u001b[0;34m:\u001b[0m  \u001b[0;31m# image in CHW\u001b[0m\u001b[0;34m\u001b[0m\u001b[0;34m\u001b[0m\u001b[0m\n\u001b[0;32m--> 570\u001b[0;31m                 \u001b[0mim\u001b[0m \u001b[0;34m=\u001b[0m \u001b[0mim\u001b[0m\u001b[0;34m.\u001b[0m\u001b[0mtranspose\u001b[0m\u001b[0;34m(\u001b[0m\u001b[0;34m(\u001b[0m\u001b[0;36m1\u001b[0m\u001b[0;34m,\u001b[0m \u001b[0;36m2\u001b[0m\u001b[0;34m,\u001b[0m \u001b[0;36m0\u001b[0m\u001b[0;34m)\u001b[0m\u001b[0;34m)\u001b[0m  \u001b[0;31m# reverse dataloader .transpose(2, 0, 1)\u001b[0m\u001b[0;34m\u001b[0m\u001b[0;34m\u001b[0m\u001b[0m\n\u001b[0m\u001b[1;32m    571\u001b[0m             \u001b[0mim\u001b[0m \u001b[0;34m=\u001b[0m \u001b[0mim\u001b[0m\u001b[0;34m[\u001b[0m\u001b[0;34m...\u001b[0m\u001b[0;34m,\u001b[0m \u001b[0;34m:\u001b[0m\u001b[0;36m3\u001b[0m\u001b[0;34m]\u001b[0m \u001b[0;32mif\u001b[0m \u001b[0mim\u001b[0m\u001b[0;34m.\u001b[0m\u001b[0mndim\u001b[0m \u001b[0;34m==\u001b[0m \u001b[0;36m3\u001b[0m \u001b[0;32melse\u001b[0m \u001b[0mnp\u001b[0m\u001b[0;34m.\u001b[0m\u001b[0mtile\u001b[0m\u001b[0;34m(\u001b[0m\u001b[0mim\u001b[0m\u001b[0;34m[\u001b[0m\u001b[0;34m...\u001b[0m\u001b[0;34m,\u001b[0m \u001b[0;32mNone\u001b[0m\u001b[0;34m]\u001b[0m\u001b[0;34m,\u001b[0m \u001b[0;36m3\u001b[0m\u001b[0;34m)\u001b[0m  \u001b[0;31m# enforce 3ch input\u001b[0m\u001b[0;34m\u001b[0m\u001b[0;34m\u001b[0m\u001b[0m\n\u001b[1;32m    572\u001b[0m             \u001b[0ms\u001b[0m \u001b[0;34m=\u001b[0m \u001b[0mim\u001b[0m\u001b[0;34m.\u001b[0m\u001b[0mshape\u001b[0m\u001b[0;34m[\u001b[0m\u001b[0;34m:\u001b[0m\u001b[0;36m2\u001b[0m\u001b[0;34m]\u001b[0m  \u001b[0;31m# HWC\u001b[0m\u001b[0;34m\u001b[0m\u001b[0;34m\u001b[0m\u001b[0m\n",
      "\u001b[0;31mValueError\u001b[0m: axes don't match array"
     ]
    }
   ],
   "source": [
    "results = model(image_loader(img)[:, :, :224, :224].numpy())"
   ]
  },
  {
   "cell_type": "code",
   "execution_count": 76,
   "id": "ca093b72",
   "metadata": {},
   "outputs": [
    {
     "name": "stdout",
     "output_type": "stream",
     "text": [
      "tensor([[[[[-2.59655e-02, -7.64662e-02, -1.41368e-01,  ..., -4.75253e+00, -6.54617e+00, -4.90514e+00],\n",
      "           [ 2.42541e-02,  4.16668e-02,  1.33638e+00,  ..., -4.60978e+00, -6.12189e+00, -4.80412e+00],\n",
      "           [-6.01619e-01,  7.22307e-02,  2.17188e+00,  ..., -4.51395e+00, -6.00133e+00, -4.58426e+00],\n",
      "           ...,\n",
      "           [ 6.39163e-01,  2.18420e-01,  2.40018e+00,  ..., -3.97244e+00, -6.60634e+00, -5.01512e+00],\n",
      "           [ 1.34759e-01,  1.12790e-01,  1.37872e+00,  ..., -3.90444e+00, -6.59628e+00, -5.27704e+00],\n",
      "           [-1.20940e-01, -5.62277e-02,  1.67152e-01,  ..., -4.32387e+00, -6.96785e+00, -5.34040e+00]],\n",
      "\n",
      "          [[ 6.38998e-02, -2.45377e-01, -1.60617e-01,  ..., -4.39631e+00, -5.99922e+00, -4.57535e+00],\n",
      "           [ 6.94271e-03, -2.31807e-01,  1.35857e+00,  ..., -3.97708e+00, -5.60925e+00, -4.54276e+00],\n",
      "           [-6.30111e-01, -2.53009e-01,  2.30769e+00,  ..., -3.96762e+00, -5.49978e+00, -4.47398e+00],\n",
      "           ...,\n",
      "           [ 5.81803e-01, -3.52607e-01,  2.63689e+00,  ..., -3.46428e+00, -6.18976e+00, -4.79231e+00],\n",
      "           [-6.36017e-02, -5.70094e-01,  1.44542e+00,  ..., -3.38923e+00, -6.09498e+00, -5.02638e+00],\n",
      "           [-1.20277e-01, -2.85481e-01,  8.97640e-02,  ..., -4.08596e+00, -6.53428e+00, -5.13823e+00]],\n",
      "\n",
      "          [[ 1.21377e-01, -2.52320e-01, -1.00040e-01,  ..., -4.15973e+00, -6.33975e+00, -4.86060e+00],\n",
      "           [-2.15190e-01, -3.50574e-01,  1.22643e+00,  ..., -3.88350e+00, -5.80303e+00, -4.73146e+00],\n",
      "           [-7.42978e-01, -2.95844e-01,  2.26614e+00,  ..., -4.28895e+00, -6.02566e+00, -4.97077e+00],\n",
      "           ...,\n",
      "           [ 5.86821e-01, -3.81468e-01,  2.55735e+00,  ..., -3.62571e+00, -6.08014e+00, -4.72213e+00],\n",
      "           [-2.59489e-02, -6.74336e-01,  1.39029e+00,  ..., -3.38655e+00, -6.11122e+00, -4.95616e+00],\n",
      "           [-1.01781e-01, -5.17874e-01, -1.56357e-02,  ..., -3.96349e+00, -6.59087e+00, -4.97580e+00]],\n",
      "\n",
      "          ...,\n",
      "\n",
      "          [[ 5.31384e-02,  9.69183e-02, -1.32614e-01,  ..., -3.94705e+00, -6.65375e+00, -5.06317e+00],\n",
      "           [ 4.21671e-02,  3.30919e-01,  1.37021e+00,  ..., -3.51286e+00, -6.50439e+00, -5.57637e+00],\n",
      "           [-6.40609e-01,  2.78578e-01,  2.51221e+00,  ..., -3.53446e+00, -6.40846e+00, -5.50889e+00],\n",
      "           ...,\n",
      "           [ 7.30700e-01,  1.13833e-01,  2.37241e+00,  ..., -4.06577e+00, -5.70922e+00, -3.99530e+00],\n",
      "           [ 7.85188e-01,  3.61963e-02,  7.71379e-01,  ..., -3.23379e+00, -5.97068e+00, -4.81621e+00],\n",
      "           [-4.18036e-01, -9.15242e-03,  1.46669e-01,  ..., -3.38181e+00, -6.32556e+00, -4.90647e+00]],\n",
      "\n",
      "          [[-1.05001e-02,  2.66494e-01, -9.65790e-02,  ..., -4.08964e+00, -6.85926e+00, -5.08509e+00],\n",
      "           [ 4.49177e-01,  5.42005e-01,  1.69663e+00,  ..., -3.72433e+00, -6.63519e+00, -5.37251e+00],\n",
      "           [-6.18227e-01,  4.43811e-01,  2.73429e+00,  ..., -3.95141e+00, -6.38234e+00, -4.95756e+00],\n",
      "           ...,\n",
      "           [ 5.51990e-01, -4.09022e-02,  2.46270e+00,  ..., -3.98801e+00, -5.81681e+00, -4.06454e+00],\n",
      "           [ 5.82766e-01, -4.96326e-01,  9.38052e-01,  ..., -3.59296e+00, -5.92654e+00, -4.79177e+00],\n",
      "           [-4.00124e-01, -5.98456e-01,  1.78373e-01,  ..., -3.84013e+00, -6.24138e+00, -4.95394e+00]],\n",
      "\n",
      "          [[ 2.08827e-01, -1.06198e-01, -1.44702e-01,  ..., -4.43911e+00, -7.04657e+00, -5.12940e+00],\n",
      "           [ 2.78671e-01, -3.06984e-01,  1.49013e+00,  ..., -4.09320e+00, -6.68692e+00, -5.41673e+00],\n",
      "           [-5.94226e-01, -4.08810e-01,  2.43596e+00,  ..., -4.31277e+00, -6.49348e+00, -5.10617e+00],\n",
      "           ...,\n",
      "           [ 9.56658e-02, -3.20486e-01,  2.07797e+00,  ..., -4.03722e+00, -5.99338e+00, -4.38582e+00],\n",
      "           [ 4.76075e-01, -2.64507e-01,  9.50835e-01,  ..., -4.08795e+00, -6.40748e+00, -5.09951e+00],\n",
      "           [-2.64836e-01, -2.20642e-01,  6.91921e-03,  ..., -4.40648e+00, -6.71089e+00, -4.97903e+00]]],\n",
      "\n",
      "\n",
      "         [[[ 1.99003e-01, -8.13224e-02, -3.03431e-01,  ..., -4.31852e+00, -6.31877e+00, -4.90249e+00],\n",
      "           [ 2.47483e-01,  1.08662e-01,  6.10390e-01,  ..., -4.19120e+00, -5.83001e+00, -4.88564e+00],\n",
      "           [-2.11025e-01,  1.63713e-01,  1.59207e+00,  ..., -4.05347e+00, -5.68644e+00, -4.78960e+00],\n",
      "           ...,\n",
      "           [ 2.89285e-01,  3.03205e-01,  1.56801e+00,  ..., -3.50350e+00, -6.40248e+00, -5.27442e+00],\n",
      "           [-4.15609e-02,  1.86955e-01,  5.81710e-01,  ..., -3.48294e+00, -6.41232e+00, -5.40519e+00],\n",
      "           [-4.80247e-01, -1.87795e-02,  1.00796e-01,  ..., -3.86693e+00, -6.85300e+00, -5.42292e+00]],\n",
      "\n",
      "          [[ 1.99807e-01, -1.60965e-01, -5.04397e-01,  ..., -4.01670e+00, -5.74780e+00, -4.56169e+00],\n",
      "           [ 1.59077e-01, -2.01226e-01,  5.47611e-01,  ..., -3.62222e+00, -5.30084e+00, -4.64659e+00],\n",
      "           [-1.23716e-01, -2.36763e-01,  1.39815e+00,  ..., -3.56695e+00, -5.16882e+00, -4.70362e+00],\n",
      "           ...,\n",
      "           [ 1.35258e-01, -3.58308e-01,  1.36085e+00,  ..., -3.05334e+00, -6.00404e+00, -5.07179e+00],\n",
      "           [-2.17794e-01, -5.73910e-01,  5.70819e-01,  ..., -3.02437e+00, -5.90875e+00, -5.16334e+00],\n",
      "           [-3.87684e-01, -2.66301e-01, -2.35616e-01,  ..., -3.70806e+00, -6.42460e+00, -5.16988e+00]],\n",
      "\n",
      "          [[ 2.39351e-01, -1.82803e-01, -4.62122e-01,  ..., -3.78729e+00, -6.14148e+00, -4.87962e+00],\n",
      "           [-5.00909e-02, -2.19767e-01,  4.80742e-01,  ..., -3.55976e+00, -5.51499e+00, -4.85689e+00],\n",
      "           [-2.95218e-01, -1.68828e-01,  1.30724e+00,  ..., -3.90670e+00, -5.74736e+00, -5.17443e+00],\n",
      "           ...,\n",
      "           [ 1.79623e-01, -3.01995e-01,  1.27035e+00,  ..., -3.27038e+00, -5.83349e+00, -4.99341e+00],\n",
      "           [-1.35526e-01, -5.97779e-01,  5.31080e-01,  ..., -3.05790e+00, -5.92750e+00, -5.10905e+00],\n",
      "           [-3.23880e-01, -4.67844e-01, -3.27242e-01,  ..., -3.60861e+00, -6.49782e+00, -5.05519e+00]],\n",
      "\n",
      "          ...,\n",
      "\n",
      "          [[ 2.26654e-01,  1.11718e-02, -4.46589e-01,  ..., -3.59778e+00, -6.49640e+00, -5.15734e+00],\n",
      "           [ 2.56958e-01,  1.21593e-01,  6.03979e-01,  ..., -3.21534e+00, -6.36274e+00, -5.83225e+00],\n",
      "           [-5.27696e-02,  5.83094e-02,  1.41312e+00,  ..., -3.19323e+00, -6.24266e+00, -5.87325e+00],\n",
      "           ...,\n",
      "           [ 3.30106e-01, -8.67293e-02,  1.31549e+00,  ..., -3.72115e+00, -5.40888e+00, -4.23671e+00],\n",
      "           [ 7.81507e-01, -5.41031e-02,  1.41151e-01,  ..., -2.98063e+00, -5.67738e+00, -4.91419e+00],\n",
      "           [-5.39886e-01, -3.47043e-02, -2.66226e-01,  ..., -3.10877e+00, -6.11194e+00, -4.94865e+00]],\n",
      "\n",
      "          [[ 1.55801e-01,  1.28550e-01, -4.47235e-01,  ..., -3.65701e+00, -6.78070e+00, -5.15926e+00],\n",
      "           [ 6.23951e-01,  5.05305e-01,  7.65134e-01,  ..., -3.34755e+00, -6.53105e+00, -5.58559e+00],\n",
      "           [ 3.30299e-02,  3.83995e-01,  1.45625e+00,  ..., -3.54044e+00, -6.20441e+00, -5.30238e+00],\n",
      "           ...,\n",
      "           [ 6.05387e-02, -2.09091e-01,  1.51354e+00,  ..., -3.59440e+00, -5.56213e+00, -4.34605e+00],\n",
      "           [ 5.43713e-01, -7.32501e-01,  2.47849e-01,  ..., -3.27417e+00, -5.68225e+00, -4.88314e+00],\n",
      "           [-5.03544e-01, -7.86216e-01, -2.50090e-01,  ..., -3.51938e+00, -6.00600e+00, -4.92938e+00]],\n",
      "\n",
      "          [[ 5.25035e-01, -1.88485e-01, -3.08101e-01,  ..., -3.90515e+00, -6.93606e+00, -5.18752e+00],\n",
      "           [ 6.11951e-01, -3.95000e-01,  7.65881e-01,  ..., -3.63761e+00, -6.60099e+00, -5.57993e+00],\n",
      "           [-3.52482e-02, -4.97801e-01,  1.57144e+00,  ..., -3.83889e+00, -6.34723e+00, -5.35221e+00],\n",
      "           ...,\n",
      "           [ 4.55386e-02, -4.27244e-01,  1.46818e+00,  ..., -3.57506e+00, -5.72855e+00, -4.59254e+00],\n",
      "           [ 4.00666e-01, -3.83792e-01,  2.92477e-01,  ..., -3.67893e+00, -6.23365e+00, -5.16226e+00],\n",
      "           [-4.46736e-01, -3.44820e-01, -2.17037e-01,  ..., -3.97136e+00, -6.52714e+00, -4.96475e+00]]],\n",
      "\n",
      "\n",
      "         [[[ 3.22631e-01,  6.78550e-03, -7.47796e-01,  ..., -4.28372e+00, -6.16391e+00, -5.03565e+00],\n",
      "           [ 2.71235e-01,  1.83548e-01, -2.21029e-01,  ..., -4.21367e+00, -5.72196e+00, -4.83097e+00],\n",
      "           [-6.95539e-02,  2.32106e-01,  2.79510e-01,  ..., -4.03752e+00, -5.57395e+00, -4.74846e+00],\n",
      "           ...,\n",
      "           [ 2.63384e-01,  3.62044e-01,  2.62359e-01,  ..., -3.46542e+00, -6.34691e+00, -5.24995e+00],\n",
      "           [-1.05262e-01,  2.75117e-01, -2.51406e-01,  ..., -3.46032e+00, -6.34111e+00, -5.38912e+00],\n",
      "           [-6.45854e-01,  6.94167e-02, -5.11296e-01,  ..., -3.81844e+00, -6.73068e+00, -5.52921e+00]],\n",
      "\n",
      "          [[ 3.57561e-01, -6.95969e-02, -8.88313e-01,  ..., -3.99456e+00, -5.54820e+00, -4.68196e+00],\n",
      "           [ 1.87471e-01, -1.16946e-01, -2.35688e-01,  ..., -3.64558e+00, -5.12920e+00, -4.56809e+00],\n",
      "           [ 3.40770e-02, -1.69307e-01,  2.41844e-01,  ..., -3.56839e+00, -5.00602e+00, -4.62483e+00],\n",
      "           ...,\n",
      "           [ 7.38685e-02, -2.89729e-01,  2.31641e-01,  ..., -3.02635e+00, -5.89377e+00, -5.00337e+00],\n",
      "           [-2.84529e-01, -4.96959e-01, -2.22954e-01,  ..., -3.00664e+00, -5.79261e+00, -5.09141e+00],\n",
      "           [-5.49599e-01, -1.93887e-01, -7.33755e-01,  ..., -3.67283e+00, -6.24615e+00, -5.20907e+00]],\n",
      "\n",
      "          [[ 4.25011e-01, -1.04282e-01, -8.57140e-01,  ..., -3.77420e+00, -5.93989e+00, -4.91234e+00],\n",
      "           [ 3.19257e-05, -1.38551e-01, -2.64688e-01,  ..., -3.57655e+00, -5.33613e+00, -4.73922e+00],\n",
      "           [-1.08103e-01, -1.09948e-01,  1.96518e-01,  ..., -3.89508e+00, -5.57920e+00, -5.04252e+00],\n",
      "           ...,\n",
      "           [ 1.35802e-01, -2.51262e-01,  1.89868e-01,  ..., -3.24072e+00, -5.68944e+00, -4.87137e+00],\n",
      "           [-1.83203e-01, -5.07949e-01, -2.37766e-01,  ..., -3.03196e+00, -5.78885e+00, -5.01742e+00],\n",
      "           [-4.60052e-01, -3.83483e-01, -7.69740e-01,  ..., -3.58889e+00, -6.30313e+00, -5.06305e+00]],\n",
      "\n",
      "          ...,\n",
      "\n",
      "          [[ 3.93301e-01,  5.82336e-02, -8.43893e-01,  ..., -3.59290e+00, -6.35289e+00, -5.23333e+00],\n",
      "           [ 2.59862e-01,  1.67027e-01, -1.93469e-01,  ..., -3.25131e+00, -6.27621e+00, -5.76712e+00],\n",
      "           [ 6.30406e-02,  7.95862e-02,  2.36045e-01,  ..., -3.21290e+00, -6.15017e+00, -5.77564e+00],\n",
      "           ...,\n",
      "           [ 2.64039e-01, -9.04994e-02,  1.72012e-01,  ..., -3.69154e+00, -5.24156e+00, -4.18209e+00],\n",
      "           [ 7.07576e-01, -4.90826e-02, -4.94653e-01,  ..., -2.95915e+00, -5.51569e+00, -4.87330e+00],\n",
      "           [-6.92728e-01, -2.60517e-02, -7.89323e-01,  ..., -3.08229e+00, -5.92078e+00, -4.92316e+00]],\n",
      "\n",
      "          [[ 3.50231e-01,  1.05997e-01, -8.49936e-01,  ..., -3.63120e+00, -6.64931e+00, -5.24062e+00],\n",
      "           [ 6.18604e-01,  4.75683e-01, -9.28566e-02,  ..., -3.36058e+00, -6.45855e+00, -5.49936e+00],\n",
      "           [ 1.33726e-01,  3.38735e-01,  2.51539e-01,  ..., -3.54471e+00, -6.11125e+00, -5.22390e+00],\n",
      "           ...,\n",
      "           [ 3.72313e-03, -2.57714e-01,  2.43348e-01,  ..., -3.57789e+00, -5.40669e+00, -4.29252e+00],\n",
      "           [ 4.78916e-01, -7.50008e-01, -4.28890e-01,  ..., -3.25318e+00, -5.53006e+00, -4.81657e+00],\n",
      "           [-6.47574e-01, -7.83585e-01, -7.73245e-01,  ..., -3.47544e+00, -5.80233e+00, -4.88205e+00]],\n",
      "\n",
      "          [[ 6.67084e-01, -1.28985e-01, -6.45282e-01,  ..., -3.85281e+00, -6.85859e+00, -5.32422e+00],\n",
      "           [ 5.77610e-01, -3.48687e-01, -1.35252e-01,  ..., -3.64930e+00, -6.57755e+00, -5.47013e+00],\n",
      "           [ 1.86435e-02, -4.61992e-01,  3.01872e-01,  ..., -3.82888e+00, -6.30062e+00, -5.23024e+00],\n",
      "           ...,\n",
      "           [ 7.85796e-03, -3.97812e-01,  3.01494e-01,  ..., -3.55531e+00, -5.63018e+00, -4.50879e+00],\n",
      "           [ 3.44134e-01, -3.27136e-01, -4.33684e-01,  ..., -3.66617e+00, -6.15143e+00, -5.10052e+00],\n",
      "           [-5.92630e-01, -3.02909e-01, -7.03650e-01,  ..., -3.93541e+00, -6.38341e+00, -4.97345e+00]]]]], device='cuda:0')\n"
     ]
    }
   ],
   "source": [
    "print(results)"
   ]
  },
  {
   "cell_type": "code",
   "execution_count": 77,
   "id": "b3c3ad43",
   "metadata": {},
   "outputs": [
    {
     "ename": "AttributeError",
     "evalue": "'Tensor' object has no attribute 'print'",
     "output_type": "error",
     "traceback": [
      "\u001b[0;31m---------------------------------------------------------------------------\u001b[0m",
      "\u001b[0;31mAttributeError\u001b[0m                            Traceback (most recent call last)",
      "\u001b[0;32m<ipython-input-77-275a67dad426>\u001b[0m in \u001b[0;36m<module>\u001b[0;34m\u001b[0m\n\u001b[0;32m----> 1\u001b[0;31m \u001b[0mresults\u001b[0m\u001b[0;34m.\u001b[0m\u001b[0mprint\u001b[0m\u001b[0;34m(\u001b[0m\u001b[0;34m)\u001b[0m\u001b[0;34m\u001b[0m\u001b[0;34m\u001b[0m\u001b[0m\n\u001b[0m",
      "\u001b[0;31mAttributeError\u001b[0m: 'Tensor' object has no attribute 'print'"
     ]
    }
   ],
   "source": [
    "results.print()"
   ]
  },
  {
   "cell_type": "code",
   "execution_count": null,
   "id": "235816df",
   "metadata": {},
   "outputs": [],
   "source": []
  }
 ],
 "metadata": {
  "kernelspec": {
   "display_name": "Python 3",
   "language": "python",
   "name": "python3"
  },
  "language_info": {
   "codemirror_mode": {
    "name": "ipython",
    "version": 3
   },
   "file_extension": ".py",
   "mimetype": "text/x-python",
   "name": "python",
   "nbconvert_exporter": "python",
   "pygments_lexer": "ipython3",
   "version": "3.6.13"
  }
 },
 "nbformat": 4,
 "nbformat_minor": 5
}
